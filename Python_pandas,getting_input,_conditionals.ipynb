{
  "nbformat": 4,
  "nbformat_minor": 0,
  "metadata": {
    "file_extension": ".py",
    "kernelspec": {
      "display_name": "Python 3.8.0 64-bit",
      "language": "python",
      "name": "python38064bite2b734199e274226979ef410f6f20e23"
    },
    "language_info": {
      "codemirror_mode": {
        "name": "ipython",
        "version": 3
      },
      "file_extension": ".py",
      "mimetype": "text/x-python",
      "name": "python",
      "nbconvert_exporter": "python",
      "pygments_lexer": "ipython3",
      "version": "3.8.0"
    },
    "mimetype": "text/x-python",
    "name": "python",
    "npconvert_exporter": "python",
    "pygments_lexer": "ipython3",
    "version": 3,
    "colab": {
      "name": "Python pandas,getting input, conditionals.ipynb",
      "provenance": [],
      "collapsed_sections": [],
      "include_colab_link": true
    }
  },
  "cells": [
    {
      "cell_type": "markdown",
      "metadata": {
        "id": "view-in-github",
        "colab_type": "text"
      },
      "source": [
        "<a href=\"https://colab.research.google.com/github/thejapamarthy/Python/blob/main/Python_pandas%2Cgetting_input%2C_conditionals.ipynb\" target=\"_parent\"><img src=\"https://colab.research.google.com/assets/colab-badge.svg\" alt=\"Open In Colab\"/></a>"
      ]
    },
    {
      "cell_type": "markdown",
      "metadata": {
        "id": "ubGf27iU6dpZ"
      },
      "source": [
        "<a href=\"https://colab.research.google.com/github/afeld/python-public-policy/blob/master/hw_0.ipynb\" target=\"_parent\"><img src=\"https://colab.research.google.com/assets/colab-badge.svg\" alt=\"Open In Colab\"/></a>\n",
        "\n",
        "\n",
        "\n",
        "\n",
        "## Coding\n",
        "\n",
        "### Getting input\n",
        "\n",
        "To get information from a user, we can use Python's [`input()`](https://docs.python.org/3/library/functions.html#input) function."
      ]
    },
    {
      "cell_type": "code",
      "metadata": {
        "id": "FTfX2yUV6dpf",
        "colab": {
          "base_uri": "https://localhost:8080/",
          "height": 53
        },
        "outputId": "af1f9582-f91a-43b7-804a-adefa24d9c6d"
      },
      "source": [
        "word = input(\"Give me a word: \")\n",
        "word "
      ],
      "execution_count": null,
      "outputs": [
        {
          "output_type": "stream",
          "text": [
            "Give me a word: apple\n"
          ],
          "name": "stdout"
        },
        {
          "output_type": "execute_result",
          "data": {
            "application/vnd.google.colaboratory.intrinsic+json": {
              "type": "string"
            },
            "text/plain": [
              "'apple'"
            ]
          },
          "metadata": {
            "tags": []
          },
          "execution_count": 1
        }
      ]
    },
    {
      "cell_type": "markdown",
      "metadata": {
        "id": "Uc1rh1wx6dp2"
      },
      "source": [
        "### Challege 0: Mad lib\n",
        "\n",
        "You are going to make a (short) interactive [mad lib](https://hobbylark.com/party-games/How-to-Make-Your-Own-Mad-Libs). Use a paragraph of a story or the chorus from a song, or make one up. Prompt for each of the words (\"noun\", \"verb\", \"vehicle\", etc.), then once they are all entered, it output the mad lib with the provided words filled in. You will be using multiple `inputs()` and string concatentation."
      ]
    },
    {
      "cell_type": "code",
      "metadata": {
        "id": "NAqDQ2656dp4",
        "colab": {
          "base_uri": "https://localhost:8080/",
          "height": 105
        },
        "outputId": "f5cfce28-17aa-4757-ab76-e2c43bcf405d"
      },
      "source": [
        "# your code goes here\n",
        "verb= input(\"Enter a verb: \")\n",
        "vegetable= input(\"Enter a vegetable: \")\n",
        "politician= input(\"Enter a politician name: \")\n",
        "noun= input(\"Enter a noun: \")\n",
        "a=\"It was a \" +verb+  \" cold November Day \"\n",
        "b=\" I woke up to the \" +vegetable+ \" smell of \"\n",
        "c= politician + \" being roasted in the backyard \"\n",
        "d=\" with a mix of salt and pepper and a dash of \" +noun\n",
        "print(a+b+c+d)\n"
      ],
      "execution_count": null,
      "outputs": [
        {
          "output_type": "stream",
          "text": [
            "Enter a verb: run\n",
            "Enter a vegetable: brinjal\n",
            "Enter a politician name: teja\n",
            "Enter a noun: awesome\n",
            "It was a run cold November Day  I woke up to the brinjal smell of teja being roasted in the backyard  with a mix of salt and pepper and a dash of awesome\n"
          ],
          "name": "stdout"
        }
      ]
    },
    {
      "cell_type": "markdown",
      "metadata": {
        "id": "Qb6a5fl36dqL"
      },
      "source": [
        "### Numeric input\n",
        "\n",
        "`input()` always returns a string. To get a number from a user in Python, you need to convert that input into a integer (or float)."
      ]
    },
    {
      "cell_type": "code",
      "metadata": {
        "id": "80Qb5BmP6dqN",
        "colab": {
          "base_uri": "https://localhost:8080/",
          "height": 53
        },
        "outputId": "74d384ea-2dc1-42b6-c943-6c5a4c6f1c57"
      },
      "source": [
        "num = input(\"Pick a number, any number. Please enter the value without commas or decimals. > \")\n",
        "num"
      ],
      "execution_count": null,
      "outputs": [
        {
          "output_type": "stream",
          "text": [
            "Pick a number, any number. Please enter the value without commas or decimals. > 6\n"
          ],
          "name": "stdout"
        },
        {
          "output_type": "execute_result",
          "data": {
            "application/vnd.google.colaboratory.intrinsic+json": {
              "type": "string"
            },
            "text/plain": [
              "'6'"
            ]
          },
          "metadata": {
            "tags": []
          },
          "execution_count": 10
        }
      ]
    },
    {
      "cell_type": "code",
      "metadata": {
        "id": "-mXAIjQt6dqZ",
        "colab": {
          "base_uri": "https://localhost:8080/",
          "height": 34
        },
        "outputId": "69f630b2-bf76-4ff2-c6d1-4f04ec423735"
      },
      "source": [
        "type(num)"
      ],
      "execution_count": null,
      "outputs": [
        {
          "output_type": "execute_result",
          "data": {
            "text/plain": [
              "str"
            ]
          },
          "metadata": {
            "tags": []
          },
          "execution_count": 11
        }
      ]
    },
    {
      "cell_type": "code",
      "metadata": {
        "id": "XJmJ_R6g6dqk",
        "colab": {
          "base_uri": "https://localhost:8080/",
          "height": 34
        },
        "outputId": "b0326107-84be-4502-c0a4-e38301e35c7d"
      },
      "source": [
        "int(num)"
      ],
      "execution_count": null,
      "outputs": [
        {
          "output_type": "execute_result",
          "data": {
            "text/plain": [
              "6"
            ]
          },
          "metadata": {
            "tags": []
          },
          "execution_count": 12
        }
      ]
    },
    {
      "cell_type": "markdown",
      "metadata": {
        "id": "isiORJDI6dqy"
      },
      "source": [
        "### Challenge 1: Unemployment benefit eligibility assessment\n",
        "\n",
        "We will now make an interactive tool to assess people for unemployment benefits. We will a simplified version of [the rules from the New York State Department of Labor](https://www.labor.ny.gov/formsdocs/ui/TC318.3e.pdf#page=15). To be elegible, one must:\n",
        "\n",
        "- Have lost employment\n",
        "- Have made at least $10,000 in the past year\n",
        "    - Ask for their salary rather than as a yes-or-no question\n",
        "- Be ready, willing and able to work immediately\n",
        "- Be actively seeking work\n",
        "\n",
        "Ask the user questions corresponding to the above, then print `\"You are eligible\"` or `\"You are not eligible\"` at the end. You will need:\n",
        "\n",
        "- `input()`s\n",
        "- `int()`\n",
        "- Conditional(s)"
      ]
    },
    {
      "cell_type": "code",
      "metadata": {
        "id": "xnLd3fqm6dq0",
        "colab": {
          "base_uri": "https://localhost:8080/",
          "height": 105
        },
        "outputId": "6c4de8af-fcb7-4aff-b4a9-d9ae1254ba91"
      },
      "source": [
        "# your code goes here\n",
        "# Questions to test eligibility for unemployment benefit\n",
        "employment= input(\"Enter yes if you are employed and no if you are unemployed: \")\n",
        "earning= int(input(\"Enter your earnings from last year as digits: \"))\n",
        "willingness=input(\"Enter yes if you are ready, willing and able to work immediately, else no: \")\n",
        "activeseek= input(\"Enter yes if you are actively seeking work, else no: \")\n",
        "if employment == \"yes\" and earning >= 10000 and willingness== \"yes\" and activeseek == \"yes\":\n",
        "  print(\"You are eligible\")\n",
        "else:\n",
        "  print(\"You are not eligible\")"
      ],
      "execution_count": null,
      "outputs": [
        {
          "output_type": "stream",
          "text": [
            "Enter yes if you are employed and no if you are unemployed: no\n",
            "Enter your earnings from last year as digits: 12000\n",
            "Enter yes if you are ready, willing and able to work immediately, else no:no\n",
            "Enter yes if you are actively seeking work, else no:no\n",
            "You are not eligible\n"
          ],
          "name": "stdout"
        }
      ]
    }
  ]
}