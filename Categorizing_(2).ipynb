{
  "nbformat": 4,
  "nbformat_minor": 0,
  "metadata": {
    "file_extension": ".py",
    "kernelspec": {
      "display_name": "Python 3",
      "language": "python",
      "name": "python3"
    },
    "language_info": {
      "codemirror_mode": {
        "name": "ipython",
        "version": 3
      },
      "file_extension": ".py",
      "mimetype": "text/x-python",
      "name": "python",
      "nbconvert_exporter": "python",
      "pygments_lexer": "ipython3",
      "version": "3.8.6"
    },
    "mimetype": "text/x-python",
    "name": "python",
    "npconvert_exporter": "python",
    "pygments_lexer": "ipython3",
    "toc": {
      "base_numbering": 1,
      "nav_menu": {},
      "number_sections": true,
      "sideBar": true,
      "skip_h1_title": false,
      "title_cell": "Table of Contents",
      "title_sidebar": "Contents",
      "toc_cell": false,
      "toc_position": {},
      "toc_section_display": true,
      "toc_window_display": false
    },
    "version": 3,
    "colab": {
      "name": "Categorizing (2).ipynb",
      "provenance": [],
      "include_colab_link": true
    }
  },
  "cells": [
    {
      "cell_type": "markdown",
      "metadata": {
        "id": "view-in-github",
        "colab_type": "text"
      },
      "source": [
        "<a href=\"https://colab.research.google.com/github/thejapamarthy/Python/blob/main/Categorizing_(2).ipynb\" target=\"_parent\"><img src=\"https://colab.research.google.com/assets/colab-badge.svg\" alt=\"Open In Colab\"/></a>"
      ]
    },
    {
      "cell_type": "markdown",
      "metadata": {
        "id": "FAGCVDpUh5zg"
      },
      "source": [
        "<a href=\"https://colab.research.google.com/github/afeld/python-public-policy/blob/main/hw_2.ipynb\" target=\"_parent\"><img src=\"https://colab.research.google.com/assets/colab-badge.svg\" alt=\"Open In Colab\"/><"
      ]
    },
    {
      "cell_type": "markdown",
      "metadata": {
        "id": "yT1EN7Zmh5zw"
      },
      "source": [
        "## Coding: Using keywords to categorize 311 requests\n",
        "\n",
        "**Problem Statement:** When you read through the `descriptor` column in the 311 data, you will see that complaints related to graffiti are actually scattered throughout multiple `complaint_type` categories. We want to identify all complaints related to graffiti and see which community districts have the most instances of graffiti.\n",
        "\n",
        "To help make this assignment easier, there's a smaller subset of the 311 data for you to use. It's named  `cleaned_311_data_hw2.csv` and is available at https://nyu.box.com/shared/static/i24kf9gkmc4ey506hw3oxxyaxz67k0mv.zip. This smaller dataset only contains ~65,000 records from relevant complaint type categories, and has columns renamed to be lowercase and underscored.\n",
        "\n",
        "First, load the data:"
      ]
    },
    {
      "cell_type": "code",
      "metadata": {
        "id": "Aa5G1xOjh5z0"
      },
      "source": [
        "# your code here\n",
        "#loading the data\n",
        "import pandas as pd\n",
        "df = pd.read_csv('https://nyu.box.com/shared/static/i24kf9gkmc4ey506hw3oxxyaxz67k0mv.zip', low_memory=False)"
      ],
      "execution_count": null,
      "outputs": []
    },
    {
      "cell_type": "markdown",
      "metadata": {
        "id": "KnQSTkRKh50H"
      },
      "source": [
        "Preview the dataframe:"
      ]
    },
    {
      "cell_type": "code",
      "metadata": {
        "id": "PGJDZoGGh50J",
        "colab": {
          "base_uri": "https://localhost:8080/",
          "height": 401
        },
        "outputId": "d0f4f108-63b7-4d7a-8637-75a2b11abdac"
      },
      "source": [
        "# your code here\n",
        "#viewing the first five rows of the dataframe\n",
        "df.head()\n"
      ],
      "execution_count": null,
      "outputs": [
        {
          "output_type": "execute_result",
          "data": {
            "text/html": [
              "<div>\n",
              "<style scoped>\n",
              "    .dataframe tbody tr th:only-of-type {\n",
              "        vertical-align: middle;\n",
              "    }\n",
              "\n",
              "    .dataframe tbody tr th {\n",
              "        vertical-align: top;\n",
              "    }\n",
              "\n",
              "    .dataframe thead th {\n",
              "        text-align: right;\n",
              "    }\n",
              "</style>\n",
              "<table border=\"1\" class=\"dataframe\">\n",
              "  <thead>\n",
              "    <tr style=\"text-align: right;\">\n",
              "      <th></th>\n",
              "      <th>Unnamed: 0</th>\n",
              "      <th>Unnamed: 0.1</th>\n",
              "      <th>Unnamed: 0.1.1</th>\n",
              "      <th>unique_key</th>\n",
              "      <th>created_date</th>\n",
              "      <th>closed_date</th>\n",
              "      <th>agency</th>\n",
              "      <th>agency_name</th>\n",
              "      <th>complaint_type</th>\n",
              "      <th>descriptor</th>\n",
              "      <th>location_type</th>\n",
              "      <th>incident_zip</th>\n",
              "      <th>incident_address</th>\n",
              "      <th>street_name</th>\n",
              "      <th>cross_street_1</th>\n",
              "      <th>cross_street_2</th>\n",
              "      <th>intersection_street_1</th>\n",
              "      <th>intersection_street_2</th>\n",
              "      <th>address_type</th>\n",
              "      <th>city</th>\n",
              "      <th>landmark</th>\n",
              "      <th>facility_type</th>\n",
              "      <th>status</th>\n",
              "      <th>due_date</th>\n",
              "      <th>resolution_description</th>\n",
              "      <th>resolution_action_updated_date</th>\n",
              "      <th>community_board</th>\n",
              "      <th>bbl</th>\n",
              "      <th>borough</th>\n",
              "      <th>x_coordinate_(state_plane)</th>\n",
              "      <th>y_coordinate_(state_plane)</th>\n",
              "      <th>open_data_channel_type</th>\n",
              "      <th>park_facility_name</th>\n",
              "      <th>park_borough</th>\n",
              "      <th>vehicle_type</th>\n",
              "      <th>taxi_company_borough</th>\n",
              "      <th>taxi_pick_up_location</th>\n",
              "      <th>bridge_highway_name</th>\n",
              "      <th>bridge_highway_direction</th>\n",
              "      <th>road_ramp</th>\n",
              "      <th>bridge_highway_segment</th>\n",
              "      <th>latitude</th>\n",
              "      <th>longitude</th>\n",
              "      <th>location</th>\n",
              "    </tr>\n",
              "  </thead>\n",
              "  <tbody>\n",
              "    <tr>\n",
              "      <th>0</th>\n",
              "      <td>0</td>\n",
              "      <td>238</td>\n",
              "      <td>238</td>\n",
              "      <td>39887282</td>\n",
              "      <td>08/01/2018 01:42:01 AM</td>\n",
              "      <td>08/14/2018 02:42:12 PM</td>\n",
              "      <td>DPR</td>\n",
              "      <td>Department of Parks and Recreation</td>\n",
              "      <td>Maintenance or Facility</td>\n",
              "      <td>Structure - Outdoors</td>\n",
              "      <td>Park</td>\n",
              "      <td>10003.0</td>\n",
              "      <td>NaN</td>\n",
              "      <td>NaN</td>\n",
              "      <td>NaN</td>\n",
              "      <td>NaN</td>\n",
              "      <td>NaN</td>\n",
              "      <td>NaN</td>\n",
              "      <td>NaN</td>\n",
              "      <td>NEW YORK</td>\n",
              "      <td>NaN</td>\n",
              "      <td>NaN</td>\n",
              "      <td>Closed</td>\n",
              "      <td>08/15/2018 01:42:01 AM</td>\n",
              "      <td>The Department of Parks and Recreation has com...</td>\n",
              "      <td>08/14/2018 02:42:12 PM</td>\n",
              "      <td>0 Unspecified</td>\n",
              "      <td>NaN</td>\n",
              "      <td>Unspecified</td>\n",
              "      <td>NaN</td>\n",
              "      <td>NaN</td>\n",
              "      <td>PHONE</td>\n",
              "      <td>First Park</td>\n",
              "      <td>Unspecified</td>\n",
              "      <td>NaN</td>\n",
              "      <td>NaN</td>\n",
              "      <td>NaN</td>\n",
              "      <td>NaN</td>\n",
              "      <td>NaN</td>\n",
              "      <td>NaN</td>\n",
              "      <td>NaN</td>\n",
              "      <td>NaN</td>\n",
              "      <td>NaN</td>\n",
              "      <td>NaN</td>\n",
              "    </tr>\n",
              "    <tr>\n",
              "      <th>1</th>\n",
              "      <td>1</td>\n",
              "      <td>353</td>\n",
              "      <td>353</td>\n",
              "      <td>39889407</td>\n",
              "      <td>08/01/2018 03:20:07 AM</td>\n",
              "      <td>08/23/2018 11:15:00 AM</td>\n",
              "      <td>DPR</td>\n",
              "      <td>Department of Parks and Recreation</td>\n",
              "      <td>Maintenance or Facility</td>\n",
              "      <td>Garbage or Litter</td>\n",
              "      <td>Park</td>\n",
              "      <td>11434.0</td>\n",
              "      <td>NaN</td>\n",
              "      <td>NaN</td>\n",
              "      <td>NaN</td>\n",
              "      <td>NaN</td>\n",
              "      <td>BAISLEY BOULEVARD</td>\n",
              "      <td>MERRICK BOULEVARD</td>\n",
              "      <td>INTERSECTION</td>\n",
              "      <td>JAMAICA</td>\n",
              "      <td>NaN</td>\n",
              "      <td>NaN</td>\n",
              "      <td>Closed</td>\n",
              "      <td>08/04/2018 03:20:07 AM</td>\n",
              "      <td>The Service Request submitted did not have suf...</td>\n",
              "      <td>08/23/2018 11:15:00 AM</td>\n",
              "      <td>12 QUEENS</td>\n",
              "      <td>NaN</td>\n",
              "      <td>QUEENS</td>\n",
              "      <td>1048111.0</td>\n",
              "      <td>188479.0</td>\n",
              "      <td>PHONE</td>\n",
              "      <td>Unspecified</td>\n",
              "      <td>QUEENS</td>\n",
              "      <td>NaN</td>\n",
              "      <td>NaN</td>\n",
              "      <td>NaN</td>\n",
              "      <td>NaN</td>\n",
              "      <td>NaN</td>\n",
              "      <td>NaN</td>\n",
              "      <td>NaN</td>\n",
              "      <td>40.683778</td>\n",
              "      <td>-73.769744</td>\n",
              "      <td>(40.68377771085733, -73.76974413109498)</td>\n",
              "    </tr>\n",
              "    <tr>\n",
              "      <th>2</th>\n",
              "      <td>2</td>\n",
              "      <td>403</td>\n",
              "      <td>403</td>\n",
              "      <td>39893067</td>\n",
              "      <td>08/01/2018 04:19:15 AM</td>\n",
              "      <td>08/02/2018 08:19:55 AM</td>\n",
              "      <td>DPR</td>\n",
              "      <td>Department of Parks and Recreation</td>\n",
              "      <td>Maintenance or Facility</td>\n",
              "      <td>Hours of Operation</td>\n",
              "      <td>Park</td>\n",
              "      <td>11206.0</td>\n",
              "      <td>NaN</td>\n",
              "      <td>NaN</td>\n",
              "      <td>NaN</td>\n",
              "      <td>NaN</td>\n",
              "      <td>NaN</td>\n",
              "      <td>NaN</td>\n",
              "      <td>NaN</td>\n",
              "      <td>BROOKLYN</td>\n",
              "      <td>NaN</td>\n",
              "      <td>NaN</td>\n",
              "      <td>Closed</td>\n",
              "      <td>08/04/2018 04:19:15 AM</td>\n",
              "      <td>The Department of Parks and Recreation has com...</td>\n",
              "      <td>08/02/2018 08:19:55 AM</td>\n",
              "      <td>01 BROOKLYN</td>\n",
              "      <td>NaN</td>\n",
              "      <td>BROOKLYN</td>\n",
              "      <td>NaN</td>\n",
              "      <td>NaN</td>\n",
              "      <td>MOBILE</td>\n",
              "      <td>Ten Eyck Plaza</td>\n",
              "      <td>BROOKLYN</td>\n",
              "      <td>NaN</td>\n",
              "      <td>NaN</td>\n",
              "      <td>NaN</td>\n",
              "      <td>NaN</td>\n",
              "      <td>NaN</td>\n",
              "      <td>NaN</td>\n",
              "      <td>NaN</td>\n",
              "      <td>NaN</td>\n",
              "      <td>NaN</td>\n",
              "      <td>NaN</td>\n",
              "    </tr>\n",
              "    <tr>\n",
              "      <th>3</th>\n",
              "      <td>3</td>\n",
              "      <td>655</td>\n",
              "      <td>655</td>\n",
              "      <td>39890578</td>\n",
              "      <td>08/01/2018 07:32:33 AM</td>\n",
              "      <td>08/16/2018 10:28:38 AM</td>\n",
              "      <td>DPR</td>\n",
              "      <td>Department of Parks and Recreation</td>\n",
              "      <td>Maintenance or Facility</td>\n",
              "      <td>Garbage or Litter</td>\n",
              "      <td>Park</td>\n",
              "      <td>11691.0</td>\n",
              "      <td>NaN</td>\n",
              "      <td>NaN</td>\n",
              "      <td>NaN</td>\n",
              "      <td>NaN</td>\n",
              "      <td>NaN</td>\n",
              "      <td>NaN</td>\n",
              "      <td>NaN</td>\n",
              "      <td>FAR ROCKAWAY</td>\n",
              "      <td>NaN</td>\n",
              "      <td>NaN</td>\n",
              "      <td>Closed</td>\n",
              "      <td>08/04/2018 07:32:33 AM</td>\n",
              "      <td>The Department of Parks and Recreation has com...</td>\n",
              "      <td>08/16/2018 10:28:38 AM</td>\n",
              "      <td>14 QUEENS</td>\n",
              "      <td>NaN</td>\n",
              "      <td>QUEENS</td>\n",
              "      <td>NaN</td>\n",
              "      <td>NaN</td>\n",
              "      <td>PHONE</td>\n",
              "      <td>Westbourne Playground</td>\n",
              "      <td>QUEENS</td>\n",
              "      <td>NaN</td>\n",
              "      <td>NaN</td>\n",
              "      <td>NaN</td>\n",
              "      <td>NaN</td>\n",
              "      <td>NaN</td>\n",
              "      <td>NaN</td>\n",
              "      <td>NaN</td>\n",
              "      <td>NaN</td>\n",
              "      <td>NaN</td>\n",
              "      <td>NaN</td>\n",
              "    </tr>\n",
              "    <tr>\n",
              "      <th>4</th>\n",
              "      <td>4</td>\n",
              "      <td>658</td>\n",
              "      <td>658</td>\n",
              "      <td>39896325</td>\n",
              "      <td>08/01/2018 07:33:12 AM</td>\n",
              "      <td>09/04/2018 05:38:02 PM</td>\n",
              "      <td>DPR</td>\n",
              "      <td>Department of Parks and Recreation</td>\n",
              "      <td>Maintenance or Facility</td>\n",
              "      <td>Garbage or Litter</td>\n",
              "      <td>Park</td>\n",
              "      <td>11355.0</td>\n",
              "      <td>NaN</td>\n",
              "      <td>NaN</td>\n",
              "      <td>NaN</td>\n",
              "      <td>NaN</td>\n",
              "      <td>NaN</td>\n",
              "      <td>NaN</td>\n",
              "      <td>NaN</td>\n",
              "      <td>FLUSHING</td>\n",
              "      <td>NaN</td>\n",
              "      <td>NaN</td>\n",
              "      <td>Closed</td>\n",
              "      <td>08/04/2018 07:33:12 AM</td>\n",
              "      <td>The condition was inspected and it was determi...</td>\n",
              "      <td>09/04/2018 05:38:02 PM</td>\n",
              "      <td>07 QUEENS</td>\n",
              "      <td>NaN</td>\n",
              "      <td>QUEENS</td>\n",
              "      <td>NaN</td>\n",
              "      <td>NaN</td>\n",
              "      <td>MOBILE</td>\n",
              "      <td>Maple Playground</td>\n",
              "      <td>QUEENS</td>\n",
              "      <td>NaN</td>\n",
              "      <td>NaN</td>\n",
              "      <td>NaN</td>\n",
              "      <td>NaN</td>\n",
              "      <td>NaN</td>\n",
              "      <td>NaN</td>\n",
              "      <td>NaN</td>\n",
              "      <td>NaN</td>\n",
              "      <td>NaN</td>\n",
              "      <td>NaN</td>\n",
              "    </tr>\n",
              "  </tbody>\n",
              "</table>\n",
              "</div>"
            ],
            "text/plain": [
              "   Unnamed: 0  Unnamed: 0.1  ...  longitude                                 location\n",
              "0           0           238  ...        NaN                                      NaN\n",
              "1           1           353  ... -73.769744  (40.68377771085733, -73.76974413109498)\n",
              "2           2           403  ...        NaN                                      NaN\n",
              "3           3           655  ...        NaN                                      NaN\n",
              "4           4           658  ...        NaN                                      NaN\n",
              "\n",
              "[5 rows x 44 columns]"
            ]
          },
          "metadata": {
            "tags": []
          },
          "execution_count": 3
        }
      ]
    },
    {
      "cell_type": "markdown",
      "metadata": {
        "id": "3iYl-HJbh50U"
      },
      "source": [
        "### Step 1\n",
        "\n",
        "Create a function that checks each row in the 311 dataframe to see if the word \"graffiti\" is present in either the `complaint_type` value or `descriptor` value. Both columns may contain the word, so you should check both. If the word \"graffiti\" is found, the function should return the boolean value True. If \"graffiti\" is not found, the function should return the boolean value False.\n",
        "\n",
        "#### Hints\n",
        "\n",
        "- The same way that we checked if the string \"BRONX\" existed in the `community_board` value in the `cb_counts` table during the lecture, you can check if \"graffiti\" exists in the `descriptor` or `complaint_type` values.\n",
        "- The `descriptor` column contains some null/NaN values. You'll have trouble running a function on these. Before your function checks if \"graffiti\" is present in `descriptor`, the function should make sure that a `descriptor` value exists using `pd.notnull(row.descriptor)`\n",
        "- Capitalization may be inconsistent. It could help to use `.lower()` to convert strings to lowercase."
      ]
    },
    {
      "cell_type": "code",
      "metadata": {
        "id": "P4muyvYGh50W"
      },
      "source": [
        "# your code here\n",
        "#creating a function to find values in complaint type and descriptor columns with graffiti value\n",
        "def graffiti(row):\n",
        "  if 'graffiti' in row[\"complaint_type\"].lower():\n",
        "      return True\n",
        "  if  pd.notnull(row[\"descriptor\"]) and 'graffiti' in row[\"descriptor\"].lower():\n",
        "      return True\n",
        "  else: \n",
        "      return False\n",
        "\n"
      ],
      "execution_count": null,
      "outputs": []
    },
    {
      "cell_type": "markdown",
      "metadata": {
        "id": "KKQCCjWhh50g"
      },
      "source": [
        "### Step 2\n",
        "\n",
        "Apply the function created in Step 1 to the 311 dataframe and create a new column called `graffiti_flag` that captures the output from the function.\n",
        "\n",
        "Tip: There are two checks you can use to confirm that the function worked as expected.\n",
        "\n",
        "- Group by `graffiti_flag` to make sure there are records tagged as `True`.\n",
        "- Using only the records where `graffiti_flag` is `True` (`sample[sample.graffiti_flag]`), group by `complaint_type` to make sure that more than one `complaint_type` is included."
      ]
    },
    {
      "cell_type": "code",
      "metadata": {
        "id": "MuEblIWuh50i",
        "colab": {
          "base_uri": "https://localhost:8080/",
          "height": 238
        },
        "outputId": "e69032dd-ba52-45c3-ebe5-ddc1b27b1c00"
      },
      "source": [
        "# your code here\n",
        "#creating a new column to capture the output from the function graffiti\n",
        "df['graffiti_flag']=df.apply(graffiti, axis=1)\n",
        "print(df)\n",
        "graffiti_check = df.groupby('graffiti_flag').size().reset_index(name='counts')\n",
        "print(graffiti_check)\n",
        "#creating a new dataframe with true values of graffiti_flag\n",
        "x= df.loc[df[\"graffiti_flag\"]==True]\n",
        "#group by complaint type that has only True values\n",
        "graffiti_complaint=x.groupby('complaint_type').size().reset_index(name='complaintcounts')\n",
        "print(graffiti_complaint)"
      ],
      "execution_count": null,
      "outputs": [
        {
          "output_type": "error",
          "ename": "NameError",
          "evalue": "ignored",
          "traceback": [
            "\u001b[0;31m---------------------------------------------------------------------------\u001b[0m",
            "\u001b[0;31mNameError\u001b[0m                                 Traceback (most recent call last)",
            "\u001b[0;32m<ipython-input-1-29894f3d0770>\u001b[0m in \u001b[0;36m<module>\u001b[0;34m()\u001b[0m\n\u001b[1;32m      1\u001b[0m \u001b[0;31m# your code here\u001b[0m\u001b[0;34m\u001b[0m\u001b[0;34m\u001b[0m\u001b[0;34m\u001b[0m\u001b[0m\n\u001b[1;32m      2\u001b[0m \u001b[0;31m#creating a new column to capture the output from the function graffiti\u001b[0m\u001b[0;34m\u001b[0m\u001b[0;34m\u001b[0m\u001b[0;34m\u001b[0m\u001b[0m\n\u001b[0;32m----> 3\u001b[0;31m \u001b[0mdf\u001b[0m\u001b[0;34m[\u001b[0m\u001b[0;34m'graffiti_flag'\u001b[0m\u001b[0;34m]\u001b[0m\u001b[0;34m=\u001b[0m\u001b[0mdf\u001b[0m\u001b[0;34m.\u001b[0m\u001b[0mapply\u001b[0m\u001b[0;34m(\u001b[0m\u001b[0mgraffiti\u001b[0m\u001b[0;34m,\u001b[0m \u001b[0maxis\u001b[0m\u001b[0;34m=\u001b[0m\u001b[0;36m1\u001b[0m\u001b[0;34m)\u001b[0m\u001b[0;34m\u001b[0m\u001b[0;34m\u001b[0m\u001b[0m\n\u001b[0m\u001b[1;32m      4\u001b[0m \u001b[0mprint\u001b[0m\u001b[0;34m(\u001b[0m\u001b[0mdf\u001b[0m\u001b[0;34m)\u001b[0m\u001b[0;34m\u001b[0m\u001b[0;34m\u001b[0m\u001b[0m\n\u001b[1;32m      5\u001b[0m \u001b[0mgraffiti_check\u001b[0m \u001b[0;34m=\u001b[0m \u001b[0mdf\u001b[0m\u001b[0;34m.\u001b[0m\u001b[0mgroupby\u001b[0m\u001b[0;34m(\u001b[0m\u001b[0;34m'graffiti_flag'\u001b[0m\u001b[0;34m)\u001b[0m\u001b[0;34m.\u001b[0m\u001b[0msize\u001b[0m\u001b[0;34m(\u001b[0m\u001b[0;34m)\u001b[0m\u001b[0;34m.\u001b[0m\u001b[0mreset_index\u001b[0m\u001b[0;34m(\u001b[0m\u001b[0mname\u001b[0m\u001b[0;34m=\u001b[0m\u001b[0;34m'counts'\u001b[0m\u001b[0;34m)\u001b[0m\u001b[0;34m\u001b[0m\u001b[0;34m\u001b[0m\u001b[0m\n",
            "\u001b[0;31mNameError\u001b[0m: name 'df' is not defined"
          ]
        }
      ]
    },
    {
      "cell_type": "markdown",
      "metadata": {
        "id": "BqnqdS-jh50u"
      },
      "source": [
        "### Step 3\n",
        "\n",
        "Create another dataframe `df_graffiti` that only contains records where `graffiti_flag` is `True`. `df_graffiti = df[df.graffiti_flag]`"
      ]
    },
    {
      "cell_type": "code",
      "metadata": {
        "id": "YZhQ4tVch50w"
      },
      "source": [
        "# your code here\n",
        "#creating another df which has only true values in graffiti_flag\n",
        "df_graffiti= df.loc[df[\"graffiti_flag\"]==True]\n"
      ],
      "execution_count": null,
      "outputs": []
    },
    {
      "cell_type": "markdown",
      "metadata": {
        "id": "CQh1a33wh508"
      },
      "source": [
        "### Step 4\n",
        "\n",
        "Group your dataframe `df_graffiti` to get the count of requests per `community_board`. Use `.nlargest()` to identify which Community District has the highest count."
      ]
    },
    {
      "cell_type": "code",
      "metadata": {
        "id": "ZfmePXHUh50-",
        "colab": {
          "base_uri": "https://localhost:8080/",
          "height": 77
        },
        "outputId": "f76dcf94-ec45-4d28-83c1-de0fe8427953"
      },
      "source": [
        "# your code here\n",
        "#creating a new dataframe with count_of_requests and community board \n",
        "df_graffitilargest=df_graffiti.groupby('community_board').size().reset_index(name='count_of_requests')\n",
        "#finding the largest count community district\n",
        "df_graffitilargest.nlargest(1, 'count_of_requests')"
      ],
      "execution_count": null,
      "outputs": [
        {
          "output_type": "execute_result",
          "data": {
            "text/html": [
              "<div>\n",
              "<style scoped>\n",
              "    .dataframe tbody tr th:only-of-type {\n",
              "        vertical-align: middle;\n",
              "    }\n",
              "\n",
              "    .dataframe tbody tr th {\n",
              "        vertical-align: top;\n",
              "    }\n",
              "\n",
              "    .dataframe thead th {\n",
              "        text-align: right;\n",
              "    }\n",
              "</style>\n",
              "<table border=\"1\" class=\"dataframe\">\n",
              "  <thead>\n",
              "    <tr style=\"text-align: right;\">\n",
              "      <th></th>\n",
              "      <th>community_board</th>\n",
              "      <th>count_of_requests</th>\n",
              "    </tr>\n",
              "  </thead>\n",
              "  <tbody>\n",
              "    <tr>\n",
              "      <th>2</th>\n",
              "      <td>01 BROOKLYN</td>\n",
              "      <td>1797</td>\n",
              "    </tr>\n",
              "  </tbody>\n",
              "</table>\n",
              "</div>"
            ],
            "text/plain": [
              "  community_board  count_of_requests\n",
              "2     01 BROOKLYN               1797"
            ]
          },
          "metadata": {
            "tags": []
          },
          "execution_count": 40
        }
      ]
    },
    {
      "cell_type": "markdown",
      "metadata": {
        "id": "xveryPX7h51J"
      },
      "source": [
        "### Bonus\n",
        "\n",
        "Create a `graffiti_flag2` column using only built-in pandas operations, i.e. without using a custom function."
      ]
    },
    {
      "cell_type": "code",
      "metadata": {
        "id": "tCt3FJylh51O",
        "colab": {
          "base_uri": "https://localhost:8080/"
        },
        "outputId": "6abc7c30-fc8b-4598-b319-d4108e316eb0"
      },
      "source": [
        "# your code here\n",
        "#creating new column graffiti_flag2 without functions\n",
        "df['graffiti_flag2']=((df['complaint_type'].str.lower() == \"graffiti\") & (pd.notnull(df['descriptor'])) & (df['descriptor'].str.lower() == \"graffiti\"))\n",
        "df['graffiti_flag2'] "
      ],
      "execution_count": null,
      "outputs": [
        {
          "output_type": "execute_result",
          "data": {
            "text/plain": [
              "0        False\n",
              "1        False\n",
              "2        False\n",
              "3        False\n",
              "4        False\n",
              "         ...  \n",
              "64572    False\n",
              "64573    False\n",
              "64574    False\n",
              "64575    False\n",
              "64576    False\n",
              "Name: graffiti_flag2, Length: 64577, dtype: bool"
            ]
          },
          "metadata": {
            "tags": []
          },
          "execution_count": 61
        }
      ]
    },
    {
      "cell_type": "markdown",
      "metadata": {
        "id": "Xo2ladUPh51b"
      },
      "source": [
        "Now [turn in the assignment](https://github.com/afeld/python-public-policy#turning-in-assignments).\n",
        "\n",
        "## Tutorials\n",
        "\n",
        "- [\"You’re Not Mapping Rats, You're Mapping Gentrification\"](https://theconcourse.deadspin.com/you-re-not-mapping-rats-you-re-mapping-gentrification-1835005060)—article about bias in 311 data\n",
        "- [Intro to Plotly Express](https://plotly.com/python/plotly-express/). You don't have to work through every one of these examples; just review to get familiar with what types of charts are possible."
      ]
    }
  ]
}