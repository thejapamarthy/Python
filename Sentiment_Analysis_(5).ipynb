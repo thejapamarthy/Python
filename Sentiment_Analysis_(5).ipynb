{
  "nbformat": 4,
  "nbformat_minor": 0,
  "metadata": {
    "celltoolbar": "Slideshow",
    "colab": {
      "name": "Sentiment Analysis (5).ipynb",
      "provenance": [],
      "collapsed_sections": [],
      "include_colab_link": true
    },
    "kernelspec": {
      "display_name": "Python 3",
      "language": "python",
      "name": "python3"
    },
    "language_info": {
      "codemirror_mode": {
        "name": "ipython",
        "version": 3
      },
      "file_extension": ".py",
      "mimetype": "text/x-python",
      "name": "python",
      "nbconvert_exporter": "python",
      "pygments_lexer": "ipython3",
      "version": "3.8.0"
    },
    "rise": {
      "scroll": true
    }
  },
  "cells": [
    {
      "cell_type": "markdown",
      "metadata": {
        "id": "view-in-github",
        "colab_type": "text"
      },
      "source": [
        "<a href=\"https://colab.research.google.com/github/thejapamarthy/Python-strings-and-if-condition/blob/main/Sentiment_Analysis_(5).ipynb\" target=\"_parent\"><img src=\"https://colab.research.google.com/assets/colab-badge.svg\" alt=\"Open In Colab\"/></a>"
      ]
    },
    {
      "cell_type": "markdown",
      "metadata": {
        "id": "F5DsWafyMCfG"
      },
      "source": [
        "\n",
        "\n",
        "\n",
        "\n",
        "## Coding: [Sentiment analysis](https://textblob.readthedocs.io/en/dev/quickstart.html#sentiment-analysis)\n",
        "\n",
        "Using the cleaned public comments dataset (https://nyu.box.com/shared/static/1zdvfmpy5452nqdlb5b1yho6m3bdihk9.csv), answer the questions below."
      ]
    },
    {
      "cell_type": "code",
      "metadata": {
        "id": "2wOh6yvrogR6",
        "colab": {
          "base_uri": "https://localhost:8080/"
        },
        "outputId": "2f848c91-9c80-47ea-e7e4-79eb0fe719fd"
      },
      "source": [
        "# your code here\r\n",
        "!python -m spacy download en_core_web_md \r\n",
        "!python -m textblob.download_corpora\r\n",
        "# import pandas as pd\r\n",
        "# import spacy\r\n",
        "# import en_core_web_md\r\n",
        "# nlp = en_core_web_md.load()\r\n",
        "# #nlp = spacy.load(\"en_core_web_md\")\r\n",
        "# !python -m textblob.download_corpora\r\n",
        "# from textblob import TextBlob\r\n",
        "# #blob = TextBlob(\"I love this class!\")\r\n",
        "# #blob.sentiment\r\n",
        "# #blob2 = TextBlob(\"I hate pandas\")\r\n",
        "# #blob2.sentiment.polarity\r\n",
        "# pd.options.display.max_colwidth = None\r\n",
        "\r\n"
      ],
      "execution_count": null,
      "outputs": [
        {
          "output_type": "stream",
          "text": [
            "Requirement already satisfied: en_core_web_md==2.2.5 from https://github.com/explosion/spacy-models/releases/download/en_core_web_md-2.2.5/en_core_web_md-2.2.5.tar.gz#egg=en_core_web_md==2.2.5 in /usr/local/lib/python3.6/dist-packages (2.2.5)\n",
            "Requirement already satisfied: spacy>=2.2.2 in /usr/local/lib/python3.6/dist-packages (from en_core_web_md==2.2.5) (2.2.4)\n",
            "Requirement already satisfied: numpy>=1.15.0 in /usr/local/lib/python3.6/dist-packages (from spacy>=2.2.2->en_core_web_md==2.2.5) (1.19.4)\n",
            "Requirement already satisfied: thinc==7.4.0 in /usr/local/lib/python3.6/dist-packages (from spacy>=2.2.2->en_core_web_md==2.2.5) (7.4.0)\n",
            "Requirement already satisfied: cymem<2.1.0,>=2.0.2 in /usr/local/lib/python3.6/dist-packages (from spacy>=2.2.2->en_core_web_md==2.2.5) (2.0.5)\n",
            "Requirement already satisfied: wasabi<1.1.0,>=0.4.0 in /usr/local/lib/python3.6/dist-packages (from spacy>=2.2.2->en_core_web_md==2.2.5) (0.8.0)\n",
            "Requirement already satisfied: srsly<1.1.0,>=1.0.2 in /usr/local/lib/python3.6/dist-packages (from spacy>=2.2.2->en_core_web_md==2.2.5) (1.0.5)\n",
            "Requirement already satisfied: plac<1.2.0,>=0.9.6 in /usr/local/lib/python3.6/dist-packages (from spacy>=2.2.2->en_core_web_md==2.2.5) (1.1.3)\n",
            "Requirement already satisfied: catalogue<1.1.0,>=0.0.7 in /usr/local/lib/python3.6/dist-packages (from spacy>=2.2.2->en_core_web_md==2.2.5) (1.0.0)\n",
            "Requirement already satisfied: requests<3.0.0,>=2.13.0 in /usr/local/lib/python3.6/dist-packages (from spacy>=2.2.2->en_core_web_md==2.2.5) (2.23.0)\n",
            "Requirement already satisfied: setuptools in /usr/local/lib/python3.6/dist-packages (from spacy>=2.2.2->en_core_web_md==2.2.5) (50.3.2)\n",
            "Requirement already satisfied: tqdm<5.0.0,>=4.38.0 in /usr/local/lib/python3.6/dist-packages (from spacy>=2.2.2->en_core_web_md==2.2.5) (4.41.1)\n",
            "Requirement already satisfied: blis<0.5.0,>=0.4.0 in /usr/local/lib/python3.6/dist-packages (from spacy>=2.2.2->en_core_web_md==2.2.5) (0.4.1)\n",
            "Requirement already satisfied: preshed<3.1.0,>=3.0.2 in /usr/local/lib/python3.6/dist-packages (from spacy>=2.2.2->en_core_web_md==2.2.5) (3.0.5)\n",
            "Requirement already satisfied: murmurhash<1.1.0,>=0.28.0 in /usr/local/lib/python3.6/dist-packages (from spacy>=2.2.2->en_core_web_md==2.2.5) (1.0.5)\n",
            "Requirement already satisfied: importlib-metadata>=0.20; python_version < \"3.8\" in /usr/local/lib/python3.6/dist-packages (from catalogue<1.1.0,>=0.0.7->spacy>=2.2.2->en_core_web_md==2.2.5) (3.3.0)\n",
            "Requirement already satisfied: chardet<4,>=3.0.2 in /usr/local/lib/python3.6/dist-packages (from requests<3.0.0,>=2.13.0->spacy>=2.2.2->en_core_web_md==2.2.5) (3.0.4)\n",
            "Requirement already satisfied: idna<3,>=2.5 in /usr/local/lib/python3.6/dist-packages (from requests<3.0.0,>=2.13.0->spacy>=2.2.2->en_core_web_md==2.2.5) (2.10)\n",
            "Requirement already satisfied: certifi>=2017.4.17 in /usr/local/lib/python3.6/dist-packages (from requests<3.0.0,>=2.13.0->spacy>=2.2.2->en_core_web_md==2.2.5) (2020.12.5)\n",
            "Requirement already satisfied: urllib3!=1.25.0,!=1.25.1,<1.26,>=1.21.1 in /usr/local/lib/python3.6/dist-packages (from requests<3.0.0,>=2.13.0->spacy>=2.2.2->en_core_web_md==2.2.5) (1.24.3)\n",
            "Requirement already satisfied: typing-extensions>=3.6.4; python_version < \"3.8\" in /usr/local/lib/python3.6/dist-packages (from importlib-metadata>=0.20; python_version < \"3.8\"->catalogue<1.1.0,>=0.0.7->spacy>=2.2.2->en_core_web_md==2.2.5) (3.7.4.3)\n",
            "Requirement already satisfied: zipp>=0.5 in /usr/local/lib/python3.6/dist-packages (from importlib-metadata>=0.20; python_version < \"3.8\"->catalogue<1.1.0,>=0.0.7->spacy>=2.2.2->en_core_web_md==2.2.5) (3.4.0)\n",
            "\u001b[38;5;2m✔ Download and installation successful\u001b[0m\n",
            "You can now load the model via spacy.load('en_core_web_md')\n",
            "[nltk_data] Downloading package brown to /root/nltk_data...\n",
            "[nltk_data]   Package brown is already up-to-date!\n",
            "[nltk_data] Downloading package punkt to /root/nltk_data...\n",
            "[nltk_data]   Package punkt is already up-to-date!\n",
            "[nltk_data] Downloading package wordnet to /root/nltk_data...\n",
            "[nltk_data]   Package wordnet is already up-to-date!\n",
            "[nltk_data] Downloading package averaged_perceptron_tagger to\n",
            "[nltk_data]     /root/nltk_data...\n",
            "[nltk_data]   Package averaged_perceptron_tagger is already up-to-\n",
            "[nltk_data]       date!\n",
            "[nltk_data] Downloading package conll2000 to /root/nltk_data...\n",
            "[nltk_data]   Package conll2000 is already up-to-date!\n",
            "[nltk_data] Downloading package movie_reviews to /root/nltk_data...\n",
            "[nltk_data]   Package movie_reviews is already up-to-date!\n",
            "Finished.\n"
          ],
          "name": "stdout"
        }
      ]
    },
    {
      "cell_type": "code",
      "metadata": {
        "colab": {
          "base_uri": "https://localhost:8080/",
          "height": 419
        },
        "id": "_TUpk9wvoQfP",
        "outputId": "ae4262d7-435f-4b56-9b65-7577396b46e4"
      },
      "source": [
        "import pandas as pd\r\n",
        "df = pd.read_csv('https://nyu.box.com/shared/static/1zdvfmpy5452nqdlb5b1yho6m3bdihk9.csv')\r\n",
        "df"
      ],
      "execution_count": null,
      "outputs": [
        {
          "output_type": "execute_result",
          "data": {
            "text/html": [
              "<div>\n",
              "<style scoped>\n",
              "    .dataframe tbody tr th:only-of-type {\n",
              "        vertical-align: middle;\n",
              "    }\n",
              "\n",
              "    .dataframe tbody tr th {\n",
              "        vertical-align: top;\n",
              "    }\n",
              "\n",
              "    .dataframe thead th {\n",
              "        text-align: right;\n",
              "    }\n",
              "</style>\n",
              "<table border=\"1\" class=\"dataframe\">\n",
              "  <thead>\n",
              "    <tr style=\"text-align: right;\">\n",
              "      <th></th>\n",
              "      <th>id</th>\n",
              "      <th>date</th>\n",
              "      <th>content</th>\n",
              "    </tr>\n",
              "  </thead>\n",
              "  <tbody>\n",
              "    <tr>\n",
              "      <th>0</th>\n",
              "      <td>DOT-OST-2018-0068-14971</td>\n",
              "      <td>2020-02-24T05:00:00Z</td>\n",
              "      <td>My wife was depressed on a daily basis. She cr...</td>\n",
              "    </tr>\n",
              "    <tr>\n",
              "      <th>1</th>\n",
              "      <td>DOT-OST-2018-0068-14917</td>\n",
              "      <td>2020-02-24T05:00:00Z</td>\n",
              "      <td>Docket number (DOT-OST-2018-0068) and the Regu...</td>\n",
              "    </tr>\n",
              "    <tr>\n",
              "      <th>2</th>\n",
              "      <td>DOT-OST-2018-0068-14918</td>\n",
              "      <td>2020-02-24T05:00:00Z</td>\n",
              "      <td>Service animals should be restricted to those ...</td>\n",
              "    </tr>\n",
              "    <tr>\n",
              "      <th>3</th>\n",
              "      <td>DOT-OST-2018-0068-14919</td>\n",
              "      <td>2020-02-24T05:00:00Z</td>\n",
              "      <td>RE:  DOCKET NUMBER DOT-OST-2018-0068I am a psy...</td>\n",
              "    </tr>\n",
              "    <tr>\n",
              "      <th>4</th>\n",
              "      <td>DOT-OST-2018-0068-14920</td>\n",
              "      <td>2020-02-24T05:00:00Z</td>\n",
              "      <td>I really appreciate the time that has been spe...</td>\n",
              "    </tr>\n",
              "    <tr>\n",
              "      <th>...</th>\n",
              "      <td>...</td>\n",
              "      <td>...</td>\n",
              "      <td>...</td>\n",
              "    </tr>\n",
              "    <tr>\n",
              "      <th>493</th>\n",
              "      <td>DOT-OST-2018-0068-15072</td>\n",
              "      <td>2020-02-24T05:00:00Z</td>\n",
              "      <td>Yes, I totally approve of the rules for servic...</td>\n",
              "    </tr>\n",
              "    <tr>\n",
              "      <th>494</th>\n",
              "      <td>DOT-OST-2018-0068-15074</td>\n",
              "      <td>2020-02-24T05:00:00Z</td>\n",
              "      <td>As a dog owner and frequent traveler, I don't ...</td>\n",
              "    </tr>\n",
              "    <tr>\n",
              "      <th>495</th>\n",
              "      <td>DOT-OST-2018-0068-15075</td>\n",
              "      <td>2020-02-24T05:00:00Z</td>\n",
              "      <td>Only true service dogs should be allowed in th...</td>\n",
              "    </tr>\n",
              "    <tr>\n",
              "      <th>496</th>\n",
              "      <td>DOT-OST-2018-0068-15078</td>\n",
              "      <td>2020-02-24T05:00:00Z</td>\n",
              "      <td>I am 100% behind new the new proposed regulati...</td>\n",
              "    </tr>\n",
              "    <tr>\n",
              "      <th>497</th>\n",
              "      <td>DOT-OST-2018-0068-15080</td>\n",
              "      <td>2020-02-24T05:00:00Z</td>\n",
              "      <td>Only fully trained and qualified service dogs ...</td>\n",
              "    </tr>\n",
              "  </tbody>\n",
              "</table>\n",
              "<p>498 rows × 3 columns</p>\n",
              "</div>"
            ],
            "text/plain": [
              "                          id  ...                                            content\n",
              "0    DOT-OST-2018-0068-14971  ...  My wife was depressed on a daily basis. She cr...\n",
              "1    DOT-OST-2018-0068-14917  ...  Docket number (DOT-OST-2018-0068) and the Regu...\n",
              "2    DOT-OST-2018-0068-14918  ...  Service animals should be restricted to those ...\n",
              "3    DOT-OST-2018-0068-14919  ...  RE:  DOCKET NUMBER DOT-OST-2018-0068I am a psy...\n",
              "4    DOT-OST-2018-0068-14920  ...  I really appreciate the time that has been spe...\n",
              "..                       ...  ...                                                ...\n",
              "493  DOT-OST-2018-0068-15072  ...  Yes, I totally approve of the rules for servic...\n",
              "494  DOT-OST-2018-0068-15074  ...  As a dog owner and frequent traveler, I don't ...\n",
              "495  DOT-OST-2018-0068-15075  ...  Only true service dogs should be allowed in th...\n",
              "496  DOT-OST-2018-0068-15078  ...  I am 100% behind new the new proposed regulati...\n",
              "497  DOT-OST-2018-0068-15080  ...  Only fully trained and qualified service dogs ...\n",
              "\n",
              "[498 rows x 3 columns]"
            ]
          },
          "metadata": {
            "tags": []
          },
          "execution_count": 4
        }
      ]
    },
    {
      "cell_type": "code",
      "metadata": {
        "id": "skMh0MurvcTB",
        "colab": {
          "base_uri": "https://localhost:8080/"
        },
        "outputId": "fc02f42f-4877-4099-e1e7-b04ccf59f1ea"
      },
      "source": [
        "import spacy\r\n",
        "#import en_core_web_md\r\n",
        "import en_core_web_sm\r\n",
        "nlp = en_core_web_sm.load()\r\n",
        "#nlp = spacy.load('en_core_web_md')\r\n",
        "from textblob import TextBlob\r\n",
        "\r\n",
        "#blob = TextBlob(\"I love this class!\")\r\n",
        "#blob.sentiment\r\n",
        "# for index.row in df.iterrows():\r\n",
        "#   df=TextBlob(row[content])\r\n",
        "# df.sentiment\r\n",
        "\r\n",
        "df['polarity'] = df['content'].apply(lambda content: TextBlob(content).sentiment.polarity)\r\n",
        "print((df['polarity'] > 0).sum())\r\n"
      ],
      "execution_count": null,
      "outputs": [
        {
          "output_type": "stream",
          "text": [
            "317\n"
          ],
          "name": "stdout"
        }
      ]
    },
    {
      "cell_type": "code",
      "metadata": {
        "id": "L3EqiVrfvo-I",
        "colab": {
          "base_uri": "https://localhost:8080/"
        },
        "outputId": "cd0aa8af-34dd-43be-9be9-f8674495f195"
      },
      "source": [
        "df.polarity\r\n",
        "positive = df.content.str.contains('positive').value_counts()\r\n",
        "positive"
      ],
      "execution_count": null,
      "outputs": [
        {
          "output_type": "execute_result",
          "data": {
            "text/plain": [
              "False    493\n",
              "True       5\n",
              "Name: content, dtype: int64"
            ]
          },
          "metadata": {
            "tags": []
          },
          "execution_count": 9
        }
      ]
    },
    {
      "cell_type": "markdown",
      "metadata": {
        "id": "j3NaNBekogR9"
      },
      "source": [
        "## How many comments have a positive (greater than zero) polarity?\n",
        "5\n",
        "YOUR RESPONSE HERE"
      ]
    },
    {
      "cell_type": "markdown",
      "metadata": {
        "id": "wrZIL-e_ogR-"
      },
      "source": [
        "## What does the distribution of polarity scores look like?\n",
        "\n",
        "Create a [histogram](https://plotly.com/python/histograms/)."
      ]
    },
    {
      "cell_type": "code",
      "metadata": {
        "id": "lzAdGahfogR_",
        "colab": {
          "base_uri": "https://localhost:8080/",
          "height": 542
        },
        "outputId": "c41336c4-ebc7-4261-bbbd-b3a9cc384204"
      },
      "source": [
        "# your code here\r\n",
        "import plotly.express as px\r\n",
        "fig = px.histogram(df, x=\"polarity\")\r\n",
        "fig.show()"
      ],
      "execution_count": null,
      "outputs": [
        {
          "output_type": "display_data",
          "data": {
            "text/html": [
              "<html>\n",
              "<head><meta charset=\"utf-8\" /></head>\n",
              "<body>\n",
              "    <div>\n",
              "            <script src=\"https://cdnjs.cloudflare.com/ajax/libs/mathjax/2.7.5/MathJax.js?config=TeX-AMS-MML_SVG\"></script><script type=\"text/javascript\">if (window.MathJax) {MathJax.Hub.Config({SVG: {font: \"STIX-Web\"}});}</script>\n",
              "                <script type=\"text/javascript\">window.PlotlyConfig = {MathJaxConfig: 'local'};</script>\n",
              "        <script src=\"https://cdn.plot.ly/plotly-latest.min.js\"></script>    \n",
              "            <div id=\"a92bed17-2416-43e3-bd13-4c29fcdfdb4c\" class=\"plotly-graph-div\" style=\"height:525px; width:100%;\"></div>\n",
              "            <script type=\"text/javascript\">\n",
              "                \n",
              "                    window.PLOTLYENV=window.PLOTLYENV || {};\n",
              "                    \n",
              "                if (document.getElementById(\"a92bed17-2416-43e3-bd13-4c29fcdfdb4c\")) {\n",
              "                    Plotly.newPlot(\n",
              "                        'a92bed17-2416-43e3-bd13-4c29fcdfdb4c',\n",
              "                        [{\"alignmentgroup\": \"True\", \"bingroup\": \"x\", \"hoverlabel\": {\"namelength\": 0}, \"hovertemplate\": \"polarity=%{x}<br>count=%{y}\", \"legendgroup\": \"\", \"marker\": {\"color\": \"#636efa\"}, \"name\": \"\", \"offsetgroup\": \"\", \"orientation\": \"v\", \"showlegend\": false, \"type\": \"histogram\", \"x\": [0.0031250000000000028, 0.011646825396825404, 0.01547619047619048, 0.0905701754385965, 0.19261083743842364, 0.0, 0.04423354423354422, 0.09292929292929292, 0.08863636363636364, 0.24000000000000005, 0.12620879120879122, 0.11095238095238094, 0.24362244897959182, 0.13449197860962567, 0.03782467532467532, -0.09242424242424242, 0.35, 0.05454545454545456, 0.1625, 0.24909090909090909, 0.18571428571428572, 0.12142857142857146, 0.18636363636363634, 0.044214876033057855, 0.31789772727272736, 0.34, 0.14071428571428574, 0.20044642857142858, 0.054411764705882354, 0.1399350649350649, 0.25555555555555554, 0.2571428571428571, -0.1675, 0.12499999999999997, 0.11428571428571431, 0.08080357142857143, 0.12916666666666668, 0.2941228693181819, 0.0, 0.13573162948162948, 0.2333333333333333, 0.625, 0.10332792207792207, 0.10089285714285717, 0.04681818181818182, -0.16615646258503403, 0.7000000000000001, 0.0, 0.14976190476190476, 0.0, -0.05833333333333333, -0.00362103174603174, 0.06818181818181818, 0.013160173160173164, -0.044747899159663866, 0.049999999999999996, -0.025, 0.016666666666666666, 0.07833333333333332, -0.07905844155844156, 0.3166666666666667, -0.020454545454545454, 0.08285742035742036, 0.00884920634920635, 0.25, 0.08220899470899472, 0.1787878787878788, -0.021890589569161005, 0.20803872053872055, 0.1, 0.32, 0.0, 0.05238095238095238, -0.01964285714285715, 0.21666666666666667, 0.0, 0.12631313131313132, 0.11000000000000001, 0.12468749999999999, 0.0, 0.043181818181818175, 0.125, -0.06249999999999999, 0.21666666666666665, -0.048106060606060604, 0.125, 0.12036796536796533, 0.2771694214876033, -0.25, 0.020293209876543216, 0.15466666666666665, 0.07646367521367521, -0.1, 0.126171875, 0.9, -0.325, 0.0, 0.13901098901098902, -0.038461538461538464, 0.06458333333333333, -0.16666666666666666, -0.02, 0.1398148148148148, 0.25, -0.23928571428571427, 0.0, 0.075, -0.35, 0.0, 0.017187499999999994, -0.29999999999999993, 0.0, 0.05545454545454545, -0.25, 0.12222222222222223, 0.26666666666666666, 0.0, 0.08214285714285714, 0.013333333333333341, 0.16999999999999998, -0.03418367346938776, 0.0, 0.06168154761904763, 0.09464285714285714, -0.09375, -0.02797619047619048, 0.3375, 0.11634920634920637, -0.00416666666666667, -0.024074074074074067, 0.0475, 0.3314285714285714, 0.2, 0.14285714285714285, -0.06499999999999999, 0.1273148148148148, 0.19999999999999998, 0.06666666666666668, 0.01506410256410256, 0.11666666666666665, 0.054706101190476225, 0.07658730158730159, -0.05148809523809524, 0.05333333333333336, 0.0, 0.05714285714285714, -0.010113636363636363, 0.1695887445887446, 0.20000000000000004, 0.11500000000000002, 0.11000000000000001, -0.01829176114890401, -0.09583333333333334, 0.0, 0.09523809523809523, 0.125, 0.12468749999999999, 0.0, 0.08031751294682331, 0.5, 0.2484848484848485, 0.15416666666666665, 0.06714423076923076, 0.11224489795918367, 0.2527777777777778, 0.014743589743589738, -0.0415532879818594, -0.011845238095238091, 0.027450980392156862, 0.10714285714285714, -0.056666666666666664, 0.13333333333333333, 0.040521978021978024, -0.13, 0.16446867321867317, -0.03665413533834586, -0.008588435374149656, 0.19999999999999998, 0.012744058662426007, 0.26666666666666666, 0.12368299196657409, 0.07086283340315597, 0.10416666666666667, 0.25, 0.23700000000000002, 0.5, 0.15574314574314577, 0.0, -0.031818181818181815, 0.06436688311688313, 0.1885204081632653, 0.15833333333333333, -0.054393939393939376, 0.04425413022351797, 0.1095703125, 0.19999999999999998, -0.024837662337662325, 0.0, 0.14795918367346936, 0.08333333333333333, -0.08035714285714285, 0.5, 0.2391025641025641, 0.11875, 0.0900267857142857, -0.2376470588235294, 0.0, -0.025, 0.04126984126984127, 0.1135374149659864, -0.16666666666666666, -0.0638095238095238, 0.19142857142857142, 0.0, 0.06923076923076923, 0.1625, -0.0625, 0.027435064935064958, 0.0966966966966967, -0.3666666666666667, -0.019791666666666673, 0.08186813186813187, 0.2681818181818182, 0.21666666666666667, 0.13108108108108107, 0.0, 0.17777777777777776, -0.0625, 0.08446031746031749, 0.05396825396825397, 0.0018939393939393738, -0.06403508771929822, 0.004710144927536236, 0.19166666666666665, 0.04236111111111111, 0.01236263736263737, -0.3, 0.029166666666666674, -0.011111111111111113, 0.22632090132090135, 0.2603896103896104, -0.009016290726817046, 0.05852241628103699, 0.006145833333333326, -0.05548245614035087, -0.10833333333333331, 0.05225556053142261, 0.12, 0.004166666666666663, 0.06963684463684462, 0.17183956916099774, 0.0, -0.2874999999999999, 0.0, 0.015000000000000003, 0.058333333333333334, 0.25333333333333335, -0.06560846560846562, 0.12649572649572646, -0.012226512226512233, -0.08750000000000001, 0.037307692307692306, 0.03470695970695973, 0.09642857142857143, 0.32, -0.125, -0.08472222222222221, 0.0, -0.15625, 0.0, -0.0625, 0.02831196581196583, 0.25833333333333336, 0.08257575757575757, 0.0, -0.06794642857142857, -0.10000000000000002, 0.12148148148148147, 0.1903846153846154, 0.16792929292929293, -0.11008403361344536, 0.34218750000000003, 0.20961538461538462, 0.09999999999999999, 0.0, 0.17007575757575755, 0.11806818181818182, 0.08321204657411556, 0.0812950937950938, 0.14625843454790824, 0.020833333333333325, 0.19444444444444448, 0.2682328385899814, -0.07043650793650794, 0.3476470588235294, 0.06992845117845119, 0.14811958874458872, 0.0, 0.23238095238095235, 0.275, 0.09666666666666668, -0.24642857142857144, -0.06000000000000001, 0.028571428571428577, 0.175, -0.05555555555555556, -0.044000000000000004, 0.10853174603174602, -0.25, 0.2851851851851852, 0.039999999999999994, 0.5, 0.12376863876863878, -0.01064814814814815, 0.0, -0.20833333333333334, -0.013888888888888886, -0.08750000000000001, 0.09444444444444444, 0.06333333333333332, -0.028409090909090905, -0.020833333333333332, 0.22448979591836732, -0.13877551020408166, 0.11277281746031746, -0.023299319727891156, 0.010714285714285716, 0.11326923076923077, 0.0, 0.0, -0.03571428571428571, -0.065, 0.2089285714285714, 0.08329670329670329, 0.0, 0.1460757314974182, 0.06791666666666668, -0.14357142857142854, -0.04375, -0.02749999999999994, 0.06399350649350649, 0.075, 0.1888888888888889, 0.0, 0.07142857142857142, -0.04833333333333332, 0.2814814814814815, 0.009523809523809537, 0.0, 0.0, 0.16666666666666666, 0.02187500000000006, 0.00641025641025642, 0.16818181818181818, -0.08333333333333333, 0.14625843454790824, -0.008125000000000004, 0.15756172839506172, 0.09558823529411764, 0.27111111111111114, 0.08, 0.4454545454545455, 0.01004329004329003, 0.03796296296296297, 0.06834415584415585, 0.18333333333333332, 0.02589285714285714, 0.11201298701298702, -0.016666666666666663, 0.002564102564102564, 0.0035714285714285657, 0.42000000000000004, -0.15000000000000002, 0.0, 0.011363636363636364, 0.2729166666666667, 0.06593406593406594, 0.27881944444444445, 0.0, -0.04446601104209801, 0.056679035250463826, 0.07315361406270497, -0.12666666666666668, 0.004761904761904763, -0.06875, 0.05333333333333334, 0.08333333333333333, 0.06666666666666665, 0.2, -0.14754901960784314, 0.19300144300144298, 0.19333333333333336, 0.0, 0.10833333333333332, 0.11666666666666665, 0.4, 0.0820869990224829, 0.06851073762838468, 0.0, -0.0677827380952381, -0.125, -0.018095238095238098, 0.08958333333333333, 0.038839285714285715, 0.049702380952380956, -0.04330357142857142, 0.325, 0.14571428571428574, 0.09999999999999999, 0.19333333333333333, -0.03166666666666666, -0.390625, -0.016666666666666666, -0.1464285714285714, 0.125, 0.215625, 0.2491071428571429, 0.0, 0.0, -0.06597222222222221, -0.03125, 0.1277777777777778, 0.12357142857142855, 0.15833333333333333, -0.15, -0.02727272727272727, 0.0, 0.0, 0.04814814814814815, -0.1142857142857143, -0.020454545454545454, 0.14583333333333334, 0.0, 0.0, 0.0, 0.0, 0.0, 0.14110436347278457, 0.11111111111111109, 0.04285714285714286, 0.11111111111111112, 0.08069828722002631, 0.06666666666666667, 0.36038961038961037, 0.14428571428571427, -0.0008403361344537785, 0.06271472488863794, -0.35416666666666663, 0.05833333333333334, 0.0, 0.0, 0.06100931677018634, -0.3, 0.4666666666666666, 0.18819444444444447, 0.09999116624116623, -0.24999999999999997, 0.11648550724637681, 0.17847222222222223, 0.14916666666666667, 0.0625, 0.24291666666666667, 0.26153846153846155, -0.075, 0.07260802469135802, 0.06275510204081633, -0.019999999999999997, 0.1153968253968254, 0.07411616161616162, -0.05166666666666666, 0.2, 0.0, -0.19999999999999998, 0.029383680555555555, 0.0004960317460317535, 0.12952073646518092, -0.012727272727272731, 0.05, 0.15959595959595962, -0.15000000000000002, 0.038095238095238106, -1.0, -0.05050505050505049, -0.10572916666666665, -0.019444444444444448, -0.3, 0.11269841269841269, -0.05833333333333333, -0.00362103174603174, 0.06818181818181818, 0.013160173160173164, -0.044747899159663866, 0.049999999999999996, -0.025, 0.016666666666666666, 0.07833333333333332, -0.07905844155844156, 0.3166666666666667], \"xaxis\": \"x\", \"yaxis\": \"y\"}],\n",
              "                        {\"barmode\": \"relative\", \"legend\": {\"tracegroupgap\": 0}, \"margin\": {\"t\": 60}, \"template\": {\"data\": {\"bar\": [{\"error_x\": {\"color\": \"#2a3f5f\"}, \"error_y\": {\"color\": \"#2a3f5f\"}, \"marker\": {\"line\": {\"color\": \"#E5ECF6\", \"width\": 0.5}}, \"type\": \"bar\"}], \"barpolar\": [{\"marker\": {\"line\": {\"color\": \"#E5ECF6\", \"width\": 0.5}}, \"type\": \"barpolar\"}], \"carpet\": [{\"aaxis\": {\"endlinecolor\": \"#2a3f5f\", \"gridcolor\": \"white\", \"linecolor\": \"white\", \"minorgridcolor\": \"white\", \"startlinecolor\": \"#2a3f5f\"}, \"baxis\": {\"endlinecolor\": \"#2a3f5f\", \"gridcolor\": \"white\", \"linecolor\": \"white\", \"minorgridcolor\": \"white\", \"startlinecolor\": \"#2a3f5f\"}, \"type\": \"carpet\"}], \"choropleth\": [{\"colorbar\": {\"outlinewidth\": 0, \"ticks\": \"\"}, \"type\": \"choropleth\"}], \"contour\": [{\"colorbar\": {\"outlinewidth\": 0, \"ticks\": \"\"}, \"colorscale\": [[0.0, \"#0d0887\"], [0.1111111111111111, \"#46039f\"], [0.2222222222222222, \"#7201a8\"], [0.3333333333333333, \"#9c179e\"], [0.4444444444444444, \"#bd3786\"], [0.5555555555555556, \"#d8576b\"], [0.6666666666666666, \"#ed7953\"], [0.7777777777777778, \"#fb9f3a\"], [0.8888888888888888, \"#fdca26\"], [1.0, \"#f0f921\"]], \"type\": \"contour\"}], \"contourcarpet\": [{\"colorbar\": {\"outlinewidth\": 0, \"ticks\": \"\"}, \"type\": \"contourcarpet\"}], \"heatmap\": [{\"colorbar\": {\"outlinewidth\": 0, \"ticks\": \"\"}, \"colorscale\": [[0.0, \"#0d0887\"], [0.1111111111111111, \"#46039f\"], [0.2222222222222222, \"#7201a8\"], [0.3333333333333333, \"#9c179e\"], [0.4444444444444444, \"#bd3786\"], [0.5555555555555556, \"#d8576b\"], [0.6666666666666666, \"#ed7953\"], [0.7777777777777778, \"#fb9f3a\"], [0.8888888888888888, \"#fdca26\"], [1.0, \"#f0f921\"]], \"type\": \"heatmap\"}], \"heatmapgl\": [{\"colorbar\": {\"outlinewidth\": 0, \"ticks\": \"\"}, \"colorscale\": [[0.0, \"#0d0887\"], [0.1111111111111111, \"#46039f\"], [0.2222222222222222, \"#7201a8\"], [0.3333333333333333, \"#9c179e\"], [0.4444444444444444, \"#bd3786\"], [0.5555555555555556, \"#d8576b\"], [0.6666666666666666, \"#ed7953\"], [0.7777777777777778, \"#fb9f3a\"], [0.8888888888888888, \"#fdca26\"], [1.0, \"#f0f921\"]], \"type\": \"heatmapgl\"}], \"histogram\": [{\"marker\": {\"colorbar\": {\"outlinewidth\": 0, \"ticks\": \"\"}}, \"type\": \"histogram\"}], \"histogram2d\": [{\"colorbar\": {\"outlinewidth\": 0, \"ticks\": \"\"}, \"colorscale\": [[0.0, \"#0d0887\"], [0.1111111111111111, \"#46039f\"], [0.2222222222222222, \"#7201a8\"], [0.3333333333333333, \"#9c179e\"], [0.4444444444444444, \"#bd3786\"], [0.5555555555555556, \"#d8576b\"], [0.6666666666666666, \"#ed7953\"], [0.7777777777777778, \"#fb9f3a\"], [0.8888888888888888, \"#fdca26\"], [1.0, \"#f0f921\"]], \"type\": \"histogram2d\"}], \"histogram2dcontour\": [{\"colorbar\": {\"outlinewidth\": 0, \"ticks\": \"\"}, \"colorscale\": [[0.0, \"#0d0887\"], [0.1111111111111111, \"#46039f\"], [0.2222222222222222, \"#7201a8\"], [0.3333333333333333, \"#9c179e\"], [0.4444444444444444, \"#bd3786\"], [0.5555555555555556, \"#d8576b\"], [0.6666666666666666, \"#ed7953\"], [0.7777777777777778, \"#fb9f3a\"], [0.8888888888888888, \"#fdca26\"], [1.0, \"#f0f921\"]], \"type\": \"histogram2dcontour\"}], \"mesh3d\": [{\"colorbar\": {\"outlinewidth\": 0, \"ticks\": \"\"}, \"type\": \"mesh3d\"}], \"parcoords\": [{\"line\": {\"colorbar\": {\"outlinewidth\": 0, \"ticks\": \"\"}}, \"type\": \"parcoords\"}], \"pie\": [{\"automargin\": true, \"type\": \"pie\"}], \"scatter\": [{\"marker\": {\"colorbar\": {\"outlinewidth\": 0, \"ticks\": \"\"}}, \"type\": \"scatter\"}], \"scatter3d\": [{\"line\": {\"colorbar\": {\"outlinewidth\": 0, \"ticks\": \"\"}}, \"marker\": {\"colorbar\": {\"outlinewidth\": 0, \"ticks\": \"\"}}, \"type\": \"scatter3d\"}], \"scattercarpet\": [{\"marker\": {\"colorbar\": {\"outlinewidth\": 0, \"ticks\": \"\"}}, \"type\": \"scattercarpet\"}], \"scattergeo\": [{\"marker\": {\"colorbar\": {\"outlinewidth\": 0, \"ticks\": \"\"}}, \"type\": \"scattergeo\"}], \"scattergl\": [{\"marker\": {\"colorbar\": {\"outlinewidth\": 0, \"ticks\": \"\"}}, \"type\": \"scattergl\"}], \"scattermapbox\": [{\"marker\": {\"colorbar\": {\"outlinewidth\": 0, \"ticks\": \"\"}}, \"type\": \"scattermapbox\"}], \"scatterpolar\": [{\"marker\": {\"colorbar\": {\"outlinewidth\": 0, \"ticks\": \"\"}}, \"type\": \"scatterpolar\"}], \"scatterpolargl\": [{\"marker\": {\"colorbar\": {\"outlinewidth\": 0, \"ticks\": \"\"}}, \"type\": \"scatterpolargl\"}], \"scatterternary\": [{\"marker\": {\"colorbar\": {\"outlinewidth\": 0, \"ticks\": \"\"}}, \"type\": \"scatterternary\"}], \"surface\": [{\"colorbar\": {\"outlinewidth\": 0, \"ticks\": \"\"}, \"colorscale\": [[0.0, \"#0d0887\"], [0.1111111111111111, \"#46039f\"], [0.2222222222222222, \"#7201a8\"], [0.3333333333333333, \"#9c179e\"], [0.4444444444444444, \"#bd3786\"], [0.5555555555555556, \"#d8576b\"], [0.6666666666666666, \"#ed7953\"], [0.7777777777777778, \"#fb9f3a\"], [0.8888888888888888, \"#fdca26\"], [1.0, \"#f0f921\"]], \"type\": \"surface\"}], \"table\": [{\"cells\": {\"fill\": {\"color\": \"#EBF0F8\"}, \"line\": {\"color\": \"white\"}}, \"header\": {\"fill\": {\"color\": \"#C8D4E3\"}, \"line\": {\"color\": \"white\"}}, \"type\": \"table\"}]}, \"layout\": {\"annotationdefaults\": {\"arrowcolor\": \"#2a3f5f\", \"arrowhead\": 0, \"arrowwidth\": 1}, \"coloraxis\": {\"colorbar\": {\"outlinewidth\": 0, \"ticks\": \"\"}}, \"colorscale\": {\"diverging\": [[0, \"#8e0152\"], [0.1, \"#c51b7d\"], [0.2, \"#de77ae\"], [0.3, \"#f1b6da\"], [0.4, \"#fde0ef\"], [0.5, \"#f7f7f7\"], [0.6, \"#e6f5d0\"], [0.7, \"#b8e186\"], [0.8, \"#7fbc41\"], [0.9, \"#4d9221\"], [1, \"#276419\"]], \"sequential\": [[0.0, \"#0d0887\"], [0.1111111111111111, \"#46039f\"], [0.2222222222222222, \"#7201a8\"], [0.3333333333333333, \"#9c179e\"], [0.4444444444444444, \"#bd3786\"], [0.5555555555555556, \"#d8576b\"], [0.6666666666666666, \"#ed7953\"], [0.7777777777777778, \"#fb9f3a\"], [0.8888888888888888, \"#fdca26\"], [1.0, \"#f0f921\"]], \"sequentialminus\": [[0.0, \"#0d0887\"], [0.1111111111111111, \"#46039f\"], [0.2222222222222222, \"#7201a8\"], [0.3333333333333333, \"#9c179e\"], [0.4444444444444444, \"#bd3786\"], [0.5555555555555556, \"#d8576b\"], [0.6666666666666666, \"#ed7953\"], [0.7777777777777778, \"#fb9f3a\"], [0.8888888888888888, \"#fdca26\"], [1.0, \"#f0f921\"]]}, \"colorway\": [\"#636efa\", \"#EF553B\", \"#00cc96\", \"#ab63fa\", \"#FFA15A\", \"#19d3f3\", \"#FF6692\", \"#B6E880\", \"#FF97FF\", \"#FECB52\"], \"font\": {\"color\": \"#2a3f5f\"}, \"geo\": {\"bgcolor\": \"white\", \"lakecolor\": \"white\", \"landcolor\": \"#E5ECF6\", \"showlakes\": true, \"showland\": true, \"subunitcolor\": \"white\"}, \"hoverlabel\": {\"align\": \"left\"}, \"hovermode\": \"closest\", \"mapbox\": {\"style\": \"light\"}, \"paper_bgcolor\": \"white\", \"plot_bgcolor\": \"#E5ECF6\", \"polar\": {\"angularaxis\": {\"gridcolor\": \"white\", \"linecolor\": \"white\", \"ticks\": \"\"}, \"bgcolor\": \"#E5ECF6\", \"radialaxis\": {\"gridcolor\": \"white\", \"linecolor\": \"white\", \"ticks\": \"\"}}, \"scene\": {\"xaxis\": {\"backgroundcolor\": \"#E5ECF6\", \"gridcolor\": \"white\", \"gridwidth\": 2, \"linecolor\": \"white\", \"showbackground\": true, \"ticks\": \"\", \"zerolinecolor\": \"white\"}, \"yaxis\": {\"backgroundcolor\": \"#E5ECF6\", \"gridcolor\": \"white\", \"gridwidth\": 2, \"linecolor\": \"white\", \"showbackground\": true, \"ticks\": \"\", \"zerolinecolor\": \"white\"}, \"zaxis\": {\"backgroundcolor\": \"#E5ECF6\", \"gridcolor\": \"white\", \"gridwidth\": 2, \"linecolor\": \"white\", \"showbackground\": true, \"ticks\": \"\", \"zerolinecolor\": \"white\"}}, \"shapedefaults\": {\"line\": {\"color\": \"#2a3f5f\"}}, \"ternary\": {\"aaxis\": {\"gridcolor\": \"white\", \"linecolor\": \"white\", \"ticks\": \"\"}, \"baxis\": {\"gridcolor\": \"white\", \"linecolor\": \"white\", \"ticks\": \"\"}, \"bgcolor\": \"#E5ECF6\", \"caxis\": {\"gridcolor\": \"white\", \"linecolor\": \"white\", \"ticks\": \"\"}}, \"title\": {\"x\": 0.05}, \"xaxis\": {\"automargin\": true, \"gridcolor\": \"white\", \"linecolor\": \"white\", \"ticks\": \"\", \"title\": {\"standoff\": 15}, \"zerolinecolor\": \"white\", \"zerolinewidth\": 2}, \"yaxis\": {\"automargin\": true, \"gridcolor\": \"white\", \"linecolor\": \"white\", \"ticks\": \"\", \"title\": {\"standoff\": 15}, \"zerolinecolor\": \"white\", \"zerolinewidth\": 2}}}, \"xaxis\": {\"anchor\": \"y\", \"domain\": [0.0, 1.0], \"title\": {\"text\": \"polarity\"}}, \"yaxis\": {\"anchor\": \"x\", \"domain\": [0.0, 1.0], \"title\": {\"text\": \"count\"}}},\n",
              "                        {\"responsive\": true}\n",
              "                    ).then(function(){\n",
              "                            \n",
              "var gd = document.getElementById('a92bed17-2416-43e3-bd13-4c29fcdfdb4c');\n",
              "var x = new MutationObserver(function (mutations, observer) {{\n",
              "        var display = window.getComputedStyle(gd).display;\n",
              "        if (!display || display === 'none') {{\n",
              "            console.log([gd, 'removed!']);\n",
              "            Plotly.purge(gd);\n",
              "            observer.disconnect();\n",
              "        }}\n",
              "}});\n",
              "\n",
              "// Listen for the removal of the full notebook cells\n",
              "var notebookContainer = gd.closest('#notebook-container');\n",
              "if (notebookContainer) {{\n",
              "    x.observe(notebookContainer, {childList: true});\n",
              "}}\n",
              "\n",
              "// Listen for the clearing of the current output cell\n",
              "var outputEl = gd.closest('.output');\n",
              "if (outputEl) {{\n",
              "    x.observe(outputEl, {childList: true});\n",
              "}}\n",
              "\n",
              "                        })\n",
              "                };\n",
              "                \n",
              "            </script>\n",
              "        </div>\n",
              "</body>\n",
              "</html>"
            ]
          },
          "metadata": {
            "tags": []
          }
        }
      ]
    },
    {
      "cell_type": "markdown",
      "metadata": {
        "id": "DRpVqnixIeFu"
      },
      "source": [
        "# Exploration\n",
        "\n",
        "Homework 6, the final project, is open-ended: The goal is to prove or disprove a hypothesis using the skills learned in this class. In the real world, one would start with a specific question and find data to answer it, but the data needed often doesn't exist or is hard (or impossible) to find/access. The recommended, safer approach, for the purposes of this assignment:\n",
        "\n",
        "1. Find a dataset that seems interesting.\n",
        "  - [NYC OpenData](https://opendata.cityofnewyork.us/), [data.gov](https://www.data.gov/), and [Kaggle](https://www.kaggle.com/datasets) have many many options.\n",
        "  - Finding a dataset available in CSV or Excel formats ([Pandas can also read the latter](https://pandas.pydata.org/pandas-docs/stable/reference/api/pandas.read_excel.html)) is recommended.\n",
        "1. Look at the columns and some data in the dataset.\n",
        "1. Come up with a question that the data is capable of answering and _isn't trivial to answer_.\n",
        "  - If you aren't sure, ask.\n",
        "1. Come up with a hypothesis (a.k.a. a guess of the answer to the question).\n",
        "1. Answer the questions below, as the \"pitch\" for Homework 6. Example:\n",
        "  - **Dataset:** [Recycling Diversion and Capture Rates](https://data.cityofnewyork.us/Environment/Recycling-Diversion-and-Capture-Rates/gaq9-z3hz)\n",
        "  - **Question:** What community district increased their diversion (recycling) rate the most?\n",
        "  - **Hypothesis:** [Bushwick](https://communityprofiles.planning.nyc.gov/brooklyn/4), because hipsters love to recycle.\n",
        "1. Create a new notebook to do the actual analysis; you will turn that in separately.\n",
        "1. Go back and read any documentation that's available around the data, to get a better understanding of what it contains. This might be called a:\n",
        "    - Data dictionary\n",
        "    - User guide"
      ]
    },
    {
      "cell_type": "markdown",
      "metadata": {
        "id": "i4PTxPajogSC"
      },
      "source": [
        "## Expectations\n",
        "\n",
        "Your question/hypothesis doesn't need to be something novel; confirming something you read in the news is fine. Your analysis should:\n",
        "\n",
        "- Re-state the question, hypothesis, and data source(s) with link(s)\n",
        "- Read like a narrative/diary/logbook, walking the reader through what you're doing in every step.\n",
        "    - Pretend you're explaining to a Wagner student who hasn't taken this class. You don't need to teach them Python, but they should be able to follow what's going on.\n",
        "    - [Markdown](https://www.markdownguide.org/basic-syntax/) can be used in text cells for formatting.\n",
        "    - Include any dead ends you hit.\n",
        "- Use pandas\n",
        "- Require 40+ lines of code to come to a conclusion\n",
        "- Transform data through [filtering](https://pandas.pydata.org/pandas-docs/stable/getting_started/intro_tutorials/03_subset_data.html#how-do-i-filter-specific-rows-from-a-dataframe), [grouping](https://pandas.pydata.org/pandas-docs/stable/user_guide/groupby.html), and/or [merging](https://pandas.pydata.org/pandas-docs/stable/user_guide/merging.html#database-style-dataframe-or-named-series-joining-merging) of DataFrames\n",
        "- Have a visualization (chart or map) of some kind\n",
        "- Not be easily doable in a spreadsheet\n",
        "\n",
        "If you answer the first question easily, that's fine; dig into / build off of it."
      ]
    },
    {
      "cell_type": "markdown",
      "metadata": {
        "id": "RxiwBzFzogSE"
      },
      "source": [
        "## What dataset are you going to use?\n",
        "\n",
        "_Please include a link. If multiple, how are you going to merge/join them?_\n",
        "https://data.cityofnewyork.us/Education/2013-2018-Demographic-Snapshot-School/s52a-8aq6/data\n",
        "YOUR RESPONSE HERE"
      ]
    },
    {
      "cell_type": "markdown",
      "metadata": {
        "id": "vxjH7zaEogSE"
      },
      "source": [
        "## What's the question you are trying to answer?\n",
        "\n",
        "YOUR RESPONSE HERE 1. Which borough has highest enrollment? and 2. Which borough has highest enrollment of Black 3. What is the relationship between poverty and total enrollment across years "
      ]
    },
    {
      "cell_type": "markdown",
      "metadata": {
        "id": "SteDTzPeogSF"
      },
      "source": [
        "## What's your hypothesis?\n",
        "\n",
        "YOUR RESPONSE HERE 1. Hypothesis is that the highest enrollment will be in Manhattan, 2. Highest enrollment of Black students will be in Bronx and there will be a strong correlation between poverty and total enrollment."
      ]
    }
  ]
}