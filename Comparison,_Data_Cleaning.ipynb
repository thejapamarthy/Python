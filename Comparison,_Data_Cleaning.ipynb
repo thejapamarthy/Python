{
  "nbformat": 4,
  "nbformat_minor": 0,
  "metadata": {
    "file_extension": ".py",
    "kernelspec": {
      "display_name": "Python 3.8.0 64-bit",
      "language": "python",
      "name": "python38064bite2b734199e274226979ef410f6f20e23"
    },
    "language_info": {
      "codemirror_mode": {
        "name": "ipython",
        "version": 3
      },
      "file_extension": ".py",
      "mimetype": "text/x-python",
      "name": "python",
      "nbconvert_exporter": "python",
      "pygments_lexer": "ipython3",
      "version": "3.8.0"
    },
    "mimetype": "text/x-python",
    "name": "python",
    "npconvert_exporter": "python",
    "pygments_lexer": "ipython3",
    "version": 3,
    "colab": {
      "name": "Comparison, Data Cleaning.ipynb",
      "provenance": [],
      "collapsed_sections": [],
      "include_colab_link": true
    }
  },
  "cells": [
    {
      "cell_type": "markdown",
      "metadata": {
        "id": "view-in-github",
        "colab_type": "text"
      },
      "source": [
        "<a href=\"https://colab.research.google.com/github/thejapamarthy/Python/blob/main/Comparison%2C_Data_Cleaning.ipynb\" target=\"_parent\"><img src=\"https://colab.research.google.com/assets/colab-badge.svg\" alt=\"Open In Colab\"/></a>"
      ]
    },
    {
      "cell_type": "markdown",
      "metadata": {
        "id": "u1D3QduyyqgE"
      },
      "source": [
        "<a href=\"https://colab.research.google.com/github/afeld/python-public-policy/blob/master/hw_1.ipynb\" target=\"_parent\"><img src=\"https://colab.research.google.com/assets/colab-badge.svg\" alt=\"Open In Colab\"/></a>\n",
        "\n"
      ]
    },
    {
      "cell_type": "code",
      "metadata": {
        "id": "1K5Nqt_lyqgJ"
      },
      "source": [
        "# your code here\n",
        "# reading the dataset\n",
        "import pandas as pd\n",
        "df = pd.read_csv('https://nyu.box.com/shared/static/x3zfnpsva4kwcqj6amfchheszdv269lq.zip', low_memory=False)"
      ],
      "execution_count": null,
      "outputs": []
    },
    {
      "cell_type": "markdown",
      "metadata": {
        "id": "FX43Cojsyqge"
      },
      "source": [
        "### Step 2\n",
        "\n",
        "Answer these two questions about the data, showing your code that produced the result in two individual code cells:\n",
        "\n",
        "1. What is the minimum value in the `Created Date` column? Try using `.min()`.\n",
        "1. What is the maximum value in the `Created Date` column? Try using `.max()`."
      ]
    },
    {
      "cell_type": "code",
      "metadata": {
        "id": "Fp3KLe13yqgi",
        "colab": {
          "base_uri": "https://localhost:8080/"
        },
        "outputId": "137e378b-4fe1-43e5-adda-d91134460cb1"
      },
      "source": [
        "# your code here\n",
        "min=df['Created Date'].min() # min value in the Created Date Column\n",
        "max=df['Created Date'].max() # max value in the Created Date Column\n",
        "print(min)\n",
        "print(max)\n",
        "df['Created Date'].describe()\n",
        "df[]\n"
      ],
      "execution_count": null,
      "outputs": [
        {
          "output_type": "stream",
          "text": [
            "01/01/2019 01:00:00 PM\n",
            "12/31/2018 12:59:41 PM\n"
          ],
          "name": "stdout"
        },
        {
          "output_type": "execute_result",
          "data": {
            "text/plain": [
              "count                    2859200\n",
              "unique                   2103781\n",
              "top       08/20/2018 12:00:00 AM\n",
              "freq                         234\n",
              "Name: Created Date, dtype: object"
            ]
          },
          "metadata": {
            "tags": []
          },
          "execution_count": 6
        }
      ]
    },
    {
      "cell_type": "markdown",
      "metadata": {
        "id": "LnU5rdnMyqgt"
      },
      "source": [
        "### Step 3\n",
        "\n",
        "***Does anything about the resulting min and max values surprise you? What do think causes this?***\n",
        "\n",
        "Hint: Look at the year. If you use `.head()` and `.tail()` you can find the real min and max dates. We'll learn more about how to properly handle dates in a later lecture.\n",
        "\n",
        "The dates are not in chronology, the dates are expressed not in date format but as a string- it is doing a string comparison.\n",
        "\n"
      ]
    },
    {
      "cell_type": "markdown",
      "metadata": {
        "id": "Vc4wts1hyqgw"
      },
      "source": [
        "## Coding: Exploring Trends in How People Submit 311 Requests\n",
        "\n",
        "Use this zipped copy of the `cleaned_311_data.csv` created during our lecture to complete the homework. Read it in from https://nyu.box.com/shared/static/dpe8ekjepi6xf5zy5hpi7n1o2dgcw699.zip."
      ]
    },
    {
      "cell_type": "code",
      "metadata": {
        "id": "spQLr4NUyqgz",
        "colab": {
          "base_uri": "https://localhost:8080/",
          "height": 287
        },
        "outputId": "97829bcb-88a2-45b9-dbb0-897eb0a36f04"
      },
      "source": [
        "# your code here\n",
        "import pandas as pd\n",
        "# reading the dataset\n",
        "df = pd.read_csv('https://nyu.box.com/shared/static/dpe8ekjepi6xf5zy5hpi7n1o2dgcw699.zip', low_memory=False)\n",
        "df.head() # getting first 5 values\n",
        "df.tail() # getting the last five values\n",
        "df.describe() # getting the summary stats of the dataframe"
      ],
      "execution_count": null,
      "outputs": [
        {
          "output_type": "execute_result",
          "data": {
            "text/html": [
              "<div>\n",
              "<style scoped>\n",
              "    .dataframe tbody tr th:only-of-type {\n",
              "        vertical-align: middle;\n",
              "    }\n",
              "\n",
              "    .dataframe tbody tr th {\n",
              "        vertical-align: top;\n",
              "    }\n",
              "\n",
              "    .dataframe thead th {\n",
              "        text-align: right;\n",
              "    }\n",
              "</style>\n",
              "<table border=\"1\" class=\"dataframe\">\n",
              "  <thead>\n",
              "    <tr style=\"text-align: right;\">\n",
              "      <th></th>\n",
              "      <th>Unnamed: 0</th>\n",
              "      <th>Unique Key</th>\n",
              "      <th>BBL</th>\n",
              "      <th>X Coordinate (State Plane)</th>\n",
              "      <th>Y Coordinate (State Plane)</th>\n",
              "      <th>Latitude</th>\n",
              "      <th>Longitude</th>\n",
              "    </tr>\n",
              "  </thead>\n",
              "  <tbody>\n",
              "    <tr>\n",
              "      <th>count</th>\n",
              "      <td>2.859011e+06</td>\n",
              "      <td>2.859011e+06</td>\n",
              "      <td>2.329289e+06</td>\n",
              "      <td>2.691413e+06</td>\n",
              "      <td>2.691413e+06</td>\n",
              "      <td>2.691413e+06</td>\n",
              "      <td>2.691413e+06</td>\n",
              "    </tr>\n",
              "    <tr>\n",
              "      <th>mean</th>\n",
              "      <td>1.429557e+06</td>\n",
              "      <td>4.170077e+07</td>\n",
              "      <td>2.826138e+09</td>\n",
              "      <td>1.005120e+06</td>\n",
              "      <td>2.041253e+05</td>\n",
              "      <td>4.072690e+01</td>\n",
              "      <td>-7.392466e+01</td>\n",
              "    </tr>\n",
              "    <tr>\n",
              "      <th>std</th>\n",
              "      <td>8.253713e+05</td>\n",
              "      <td>1.076042e+06</td>\n",
              "      <td>1.174376e+09</td>\n",
              "      <td>2.310914e+04</td>\n",
              "      <td>3.132790e+04</td>\n",
              "      <td>8.598861e-02</td>\n",
              "      <td>8.333435e-02</td>\n",
              "    </tr>\n",
              "    <tr>\n",
              "      <th>min</th>\n",
              "      <td>0.000000e+00</td>\n",
              "      <td>3.883743e+07</td>\n",
              "      <td>0.000000e+00</td>\n",
              "      <td>9.133530e+05</td>\n",
              "      <td>1.210980e+05</td>\n",
              "      <td>4.049881e+01</td>\n",
              "      <td>-7.425495e+01</td>\n",
              "    </tr>\n",
              "    <tr>\n",
              "      <th>25%</th>\n",
              "      <td>7.147705e+05</td>\n",
              "      <td>4.073059e+07</td>\n",
              "      <td>2.029500e+09</td>\n",
              "      <td>9.926970e+05</td>\n",
              "      <td>1.815440e+05</td>\n",
              "      <td>4.066492e+01</td>\n",
              "      <td>-7.396954e+01</td>\n",
              "    </tr>\n",
              "    <tr>\n",
              "      <th>50%</th>\n",
              "      <td>1.429534e+06</td>\n",
              "      <td>4.166753e+07</td>\n",
              "      <td>3.030520e+09</td>\n",
              "      <td>1.004437e+06</td>\n",
              "      <td>2.008870e+05</td>\n",
              "      <td>4.071802e+01</td>\n",
              "      <td>-7.392714e+01</td>\n",
              "    </tr>\n",
              "    <tr>\n",
              "      <th>75%</th>\n",
              "      <td>2.144298e+06</td>\n",
              "      <td>4.267291e+07</td>\n",
              "      <td>4.015130e+09</td>\n",
              "      <td>1.018372e+06</td>\n",
              "      <td>2.307780e+05</td>\n",
              "      <td>4.080009e+01</td>\n",
              "      <td>-7.387685e+01</td>\n",
              "    </tr>\n",
              "    <tr>\n",
              "      <th>max</th>\n",
              "      <td>2.859199e+06</td>\n",
              "      <td>4.362698e+07</td>\n",
              "      <td>5.270001e+09</td>\n",
              "      <td>1.067279e+06</td>\n",
              "      <td>2.719010e+05</td>\n",
              "      <td>4.091294e+01</td>\n",
              "      <td>-7.370038e+01</td>\n",
              "    </tr>\n",
              "  </tbody>\n",
              "</table>\n",
              "</div>"
            ],
            "text/plain": [
              "         Unnamed: 0    Unique Key  ...      Latitude     Longitude\n",
              "count  2.859011e+06  2.859011e+06  ...  2.691413e+06  2.691413e+06\n",
              "mean   1.429557e+06  4.170077e+07  ...  4.072690e+01 -7.392466e+01\n",
              "std    8.253713e+05  1.076042e+06  ...  8.598861e-02  8.333435e-02\n",
              "min    0.000000e+00  3.883743e+07  ...  4.049881e+01 -7.425495e+01\n",
              "25%    7.147705e+05  4.073059e+07  ...  4.066492e+01 -7.396954e+01\n",
              "50%    1.429534e+06  4.166753e+07  ...  4.071802e+01 -7.392714e+01\n",
              "75%    2.144298e+06  4.267291e+07  ...  4.080009e+01 -7.387685e+01\n",
              "max    2.859199e+06  4.362698e+07  ...  4.091294e+01 -7.370038e+01\n",
              "\n",
              "[8 rows x 7 columns]"
            ]
          },
          "metadata": {
            "tags": []
          },
          "execution_count": 2
        }
      ]
    },
    {
      "cell_type": "markdown",
      "metadata": {
        "id": "N6cUR0vayqhG"
      },
      "source": [
        "### Q1\n",
        "\n",
        "Which complaint submission method (`Open Data Channel Type`) is used most frequently, according to this dataset? Provide the count of each for comparison."
      ]
    },
    {
      "cell_type": "code",
      "metadata": {
        "id": "FGL0DEnuyqhI",
        "colab": {
          "base_uri": "https://localhost:8080/",
          "height": 1000
        },
        "outputId": "38e73475-c81c-4829-ba21-a872ae812bd1"
      },
      "source": [
        "# your code here\n",
        "\n",
        "print(df['Complaint Type'].count())\n",
        "df.info()\n",
        "set(df['Open Data Channel Type']) \n",
        "with pd.option_context(\"display.max_rows\", None): # Displaying the values of Open Data Channel Type\n",
        "    display(df.groupby('Open Data Channel Type').size())\n"
      ],
      "execution_count": null,
      "outputs": [
        {
          "output_type": "stream",
          "text": [
            "2859011\n",
            "<class 'pandas.core.frame.DataFrame'>\n",
            "RangeIndex: 2859011 entries, 0 to 2859010\n",
            "Data columns (total 42 columns):\n",
            " #   Column                          Dtype  \n",
            "---  ------                          -----  \n",
            " 0   Unnamed: 0                      int64  \n",
            " 1   Unique Key                      int64  \n",
            " 2   Created Date                    object \n",
            " 3   Closed Date                     object \n",
            " 4   Agency                          object \n",
            " 5   Agency Name                     object \n",
            " 6   Complaint Type                  object \n",
            " 7   Descriptor                      object \n",
            " 8   Location Type                   object \n",
            " 9   Incident Zip                    object \n",
            " 10  Incident Address                object \n",
            " 11  Street Name                     object \n",
            " 12  Cross Street 1                  object \n",
            " 13  Cross Street 2                  object \n",
            " 14  Intersection Street 1           object \n",
            " 15  Intersection Street 2           object \n",
            " 16  Address Type                    object \n",
            " 17  City                            object \n",
            " 18  Landmark                        object \n",
            " 19  Facility Type                   object \n",
            " 20  Status                          object \n",
            " 21  Due Date                        object \n",
            " 22  Resolution Description          object \n",
            " 23  Resolution Action Updated Date  object \n",
            " 24  Community Board                 object \n",
            " 25  BBL                             float64\n",
            " 26  Borough                         object \n",
            " 27  X Coordinate (State Plane)      float64\n",
            " 28  Y Coordinate (State Plane)      float64\n",
            " 29  Open Data Channel Type          object \n",
            " 30  Park Facility Name              object \n",
            " 31  Park Borough                    object \n",
            " 32  Vehicle Type                    object \n",
            " 33  Taxi Company Borough            object \n",
            " 34  Taxi Pick Up Location           object \n",
            " 35  Bridge Highway Name             object \n",
            " 36  Bridge Highway Direction        object \n",
            " 37  Road Ramp                       object \n",
            " 38  Bridge Highway Segment          object \n",
            " 39  Latitude                        float64\n",
            " 40  Longitude                       float64\n",
            " 41  Location                        object \n",
            "dtypes: float64(5), int64(2), object(35)\n",
            "memory usage: 916.1+ MB\n"
          ],
          "name": "stdout"
        },
        {
          "output_type": "display_data",
          "data": {
            "text/plain": [
              "Open Data Channel Type\n",
              "MOBILE      368759\n",
              "ONLINE      589865\n",
              "OTHER        19267\n",
              "PHONE      1463204\n",
              "UNKNOWN     417916\n",
              "dtype: int64"
            ]
          },
          "metadata": {
            "tags": []
          }
        }
      ]
    },
    {
      "cell_type": "code",
      "metadata": {
        "id": "u0uE8PHFZ1yE",
        "colab": {
          "base_uri": "https://localhost:8080/"
        },
        "outputId": "c32e03ab-51a0-4169-b7a9-c6e5f397617d"
      },
      "source": [
        "opendata_df=df.groupby('Open Data Channel Type').size()\n",
        "print(opendata_df)\n",
        "max_value=df.groupby('Open Data Channel Type').size().max() \n",
        "print(opendata_df.index[opendata_df==max_value].tolist()) # assigning max_value values to opendata_df and getting index of the max value from the list"
      ],
      "execution_count": null,
      "outputs": [
        {
          "output_type": "stream",
          "text": [
            "Open Data Channel Type\n",
            "MOBILE      368759\n",
            "ONLINE      589865\n",
            "OTHER        19267\n",
            "PHONE      1463204\n",
            "UNKNOWN     417916\n",
            "dtype: int64\n",
            "['PHONE']\n"
          ],
          "name": "stdout"
        }
      ]
    },
    {
      "cell_type": "markdown",
      "metadata": {
        "id": "QmzwMrPPyqhU"
      },
      "source": [
        "### Q2\n",
        "\n",
        "Get the count of each submission method per complaint type, sorted by complaint type.\n",
        "\n"
      ]
    },
    {
      "cell_type": "code",
      "metadata": {
        "id": "ogzT8DupyqhW",
        "colab": {
          "base_uri": "https://localhost:8080/",
          "height": 406
        },
        "outputId": "8b5c6d74-ab71-4054-990f-f7533311dfd4"
      },
      "source": [
        "# your code here\n",
        "# grouping complaint type and submission method columns to sort by complaint type\n",
        "df.groupby(['Complaint Type', 'Open Data Channel Type']).size().reset_index(name='count').sort_values(by='Complaint Type') \n"
      ],
      "execution_count": null,
      "outputs": [
        {
          "output_type": "execute_result",
          "data": {
            "text/html": [
              "<div>\n",
              "<style scoped>\n",
              "    .dataframe tbody tr th:only-of-type {\n",
              "        vertical-align: middle;\n",
              "    }\n",
              "\n",
              "    .dataframe tbody tr th {\n",
              "        vertical-align: top;\n",
              "    }\n",
              "\n",
              "    .dataframe thead th {\n",
              "        text-align: right;\n",
              "    }\n",
              "</style>\n",
              "<table border=\"1\" class=\"dataframe\">\n",
              "  <thead>\n",
              "    <tr style=\"text-align: right;\">\n",
              "      <th></th>\n",
              "      <th>Complaint Type</th>\n",
              "      <th>Open Data Channel Type</th>\n",
              "      <th>count</th>\n",
              "    </tr>\n",
              "  </thead>\n",
              "  <tbody>\n",
              "    <tr>\n",
              "      <th>0</th>\n",
              "      <td>APPLIANCE</td>\n",
              "      <td>ONLINE</td>\n",
              "      <td>2627</td>\n",
              "    </tr>\n",
              "    <tr>\n",
              "      <th>1</th>\n",
              "      <td>APPLIANCE</td>\n",
              "      <td>PHONE</td>\n",
              "      <td>12002</td>\n",
              "    </tr>\n",
              "    <tr>\n",
              "      <th>2</th>\n",
              "      <td>Abandoned Vehicle</td>\n",
              "      <td>MOBILE</td>\n",
              "      <td>2484</td>\n",
              "    </tr>\n",
              "    <tr>\n",
              "      <th>3</th>\n",
              "      <td>Abandoned Vehicle</td>\n",
              "      <td>ONLINE</td>\n",
              "      <td>1891</td>\n",
              "    </tr>\n",
              "    <tr>\n",
              "      <th>4</th>\n",
              "      <td>Abandoned Vehicle</td>\n",
              "      <td>PHONE</td>\n",
              "      <td>5069</td>\n",
              "    </tr>\n",
              "    <tr>\n",
              "      <th>...</th>\n",
              "      <td>...</td>\n",
              "      <td>...</td>\n",
              "      <td>...</td>\n",
              "    </tr>\n",
              "    <tr>\n",
              "      <th>515</th>\n",
              "      <td>Window Guard</td>\n",
              "      <td>PHONE</td>\n",
              "      <td>13</td>\n",
              "    </tr>\n",
              "    <tr>\n",
              "      <th>514</th>\n",
              "      <td>Window Guard</td>\n",
              "      <td>ONLINE</td>\n",
              "      <td>17</td>\n",
              "    </tr>\n",
              "    <tr>\n",
              "      <th>516</th>\n",
              "      <td>Window Guard</td>\n",
              "      <td>UNKNOWN</td>\n",
              "      <td>1</td>\n",
              "    </tr>\n",
              "    <tr>\n",
              "      <th>517</th>\n",
              "      <td>X-Ray Machine/Equipment</td>\n",
              "      <td>ONLINE</td>\n",
              "      <td>5</td>\n",
              "    </tr>\n",
              "    <tr>\n",
              "      <th>518</th>\n",
              "      <td>X-Ray Machine/Equipment</td>\n",
              "      <td>PHONE</td>\n",
              "      <td>4</td>\n",
              "    </tr>\n",
              "  </tbody>\n",
              "</table>\n",
              "<p>519 rows × 3 columns</p>\n",
              "</div>"
            ],
            "text/plain": [
              "              Complaint Type Open Data Channel Type  count\n",
              "0                  APPLIANCE                 ONLINE   2627\n",
              "1                  APPLIANCE                  PHONE  12002\n",
              "2          Abandoned Vehicle                 MOBILE   2484\n",
              "3          Abandoned Vehicle                 ONLINE   1891\n",
              "4          Abandoned Vehicle                  PHONE   5069\n",
              "..                       ...                    ...    ...\n",
              "515             Window Guard                  PHONE     13\n",
              "514             Window Guard                 ONLINE     17\n",
              "516             Window Guard                UNKNOWN      1\n",
              "517  X-Ray Machine/Equipment                 ONLINE      5\n",
              "518  X-Ray Machine/Equipment                  PHONE      4\n",
              "\n",
              "[519 rows x 3 columns]"
            ]
          },
          "metadata": {
            "tags": []
          },
          "execution_count": 10
        }
      ]
    },
    {
      "cell_type": "markdown",
      "metadata": {
        "id": "SL1N0y4Syqhi"
      },
      "source": [
        "***Review the results and share a sentence or two with your observations.***\n",
        "Some of the types of the complaint are not repeating, the values are sorted by complaint type in a descending order.\n"
      ]
    },
    {
      "cell_type": "markdown",
      "metadata": {
        "id": "ZM8tN7vUyqhl"
      },
      "source": [
        "### Q3\n",
        "\n",
        "Provide a simplified table that only lists the most common request submission method for each complaint type. There should be one row per complaint type, capturing the most common submission method for that complaint type."
      ]
    },
    {
      "cell_type": "code",
      "metadata": {
        "id": "r98VpX6Zyqhn",
        "colab": {
          "base_uri": "https://localhost:8080/",
          "height": 632
        },
        "outputId": "197967e3-24b3-4554-97a4-8179afbd66d9"
      },
      "source": [
        "# your code here\n",
        "# grouping columns Complaint Type and Open Data Channel Type by decreasing order of count; dropping the remaining two values to retain highest count\n",
        "x=df.groupby(['Complaint Type', 'Open Data Channel Type']).size().reset_index(name='count')\n",
        "print(x)\n",
        "x.sort_values('count', ascending=False).drop_duplicates('Complaint Type').sort_values('Complaint Type')"
      ],
      "execution_count": null,
      "outputs": [
        {
          "output_type": "stream",
          "text": [
            "                         Complaint Type Open Data Channel Type   count\n",
            "0   Request Large Bulky Item Collection                  PHONE  177175\n",
            "1                        HEAT/HOT WATER                  PHONE  128002\n",
            "2                   Noise - Residential                  PHONE   95407\n",
            "3                      Blocked Driveway                  PHONE   95206\n",
            "4                   Noise - Residential                 ONLINE   89050\n",
            "5                Street Light Condition                UNKNOWN   77755\n",
            "6                       Illegal Parking                 MOBILE   75784\n",
            "7                       Illegal Parking                  PHONE   63957\n",
            "8                  UNSANITARY CONDITION                  PHONE   63619\n",
            "9                      Street Condition                UNKNOWN   61508\n",
            "10                      Illegal Parking                 ONLINE   55417\n",
            "11        General Construction/Plumbing                UNKNOWN   54939\n",
            "12                       HEAT/HOT WATER                 ONLINE   54872\n",
            "13                  Noise - Residential                 MOBILE   51889\n",
            "14                        PAINT/PLASTER                  PHONE   46163\n"
          ],
          "name": "stdout"
        },
        {
          "output_type": "execute_result",
          "data": {
            "text/html": [
              "<div>\n",
              "<style scoped>\n",
              "    .dataframe tbody tr th:only-of-type {\n",
              "        vertical-align: middle;\n",
              "    }\n",
              "\n",
              "    .dataframe tbody tr th {\n",
              "        vertical-align: top;\n",
              "    }\n",
              "\n",
              "    .dataframe thead th {\n",
              "        text-align: right;\n",
              "    }\n",
              "</style>\n",
              "<table border=\"1\" class=\"dataframe\">\n",
              "  <thead>\n",
              "    <tr style=\"text-align: right;\">\n",
              "      <th></th>\n",
              "      <th>Complaint Type</th>\n",
              "      <th>Open Data Channel Type</th>\n",
              "      <th>count</th>\n",
              "    </tr>\n",
              "  </thead>\n",
              "  <tbody>\n",
              "    <tr>\n",
              "      <th>3</th>\n",
              "      <td>Blocked Driveway</td>\n",
              "      <td>PHONE</td>\n",
              "      <td>95206</td>\n",
              "    </tr>\n",
              "    <tr>\n",
              "      <th>11</th>\n",
              "      <td>General Construction/Plumbing</td>\n",
              "      <td>UNKNOWN</td>\n",
              "      <td>54939</td>\n",
              "    </tr>\n",
              "    <tr>\n",
              "      <th>1</th>\n",
              "      <td>HEAT/HOT WATER</td>\n",
              "      <td>PHONE</td>\n",
              "      <td>128002</td>\n",
              "    </tr>\n",
              "    <tr>\n",
              "      <th>6</th>\n",
              "      <td>Illegal Parking</td>\n",
              "      <td>MOBILE</td>\n",
              "      <td>75784</td>\n",
              "    </tr>\n",
              "    <tr>\n",
              "      <th>2</th>\n",
              "      <td>Noise - Residential</td>\n",
              "      <td>PHONE</td>\n",
              "      <td>95407</td>\n",
              "    </tr>\n",
              "    <tr>\n",
              "      <th>14</th>\n",
              "      <td>PAINT/PLASTER</td>\n",
              "      <td>PHONE</td>\n",
              "      <td>46163</td>\n",
              "    </tr>\n",
              "    <tr>\n",
              "      <th>0</th>\n",
              "      <td>Request Large Bulky Item Collection</td>\n",
              "      <td>PHONE</td>\n",
              "      <td>177175</td>\n",
              "    </tr>\n",
              "    <tr>\n",
              "      <th>9</th>\n",
              "      <td>Street Condition</td>\n",
              "      <td>UNKNOWN</td>\n",
              "      <td>61508</td>\n",
              "    </tr>\n",
              "    <tr>\n",
              "      <th>5</th>\n",
              "      <td>Street Light Condition</td>\n",
              "      <td>UNKNOWN</td>\n",
              "      <td>77755</td>\n",
              "    </tr>\n",
              "    <tr>\n",
              "      <th>8</th>\n",
              "      <td>UNSANITARY CONDITION</td>\n",
              "      <td>PHONE</td>\n",
              "      <td>63619</td>\n",
              "    </tr>\n",
              "  </tbody>\n",
              "</table>\n",
              "</div>"
            ],
            "text/plain": [
              "                         Complaint Type Open Data Channel Type   count\n",
              "3                      Blocked Driveway                  PHONE   95206\n",
              "11        General Construction/Plumbing                UNKNOWN   54939\n",
              "1                        HEAT/HOT WATER                  PHONE  128002\n",
              "6                       Illegal Parking                 MOBILE   75784\n",
              "2                   Noise - Residential                  PHONE   95407\n",
              "14                        PAINT/PLASTER                  PHONE   46163\n",
              "0   Request Large Bulky Item Collection                  PHONE  177175\n",
              "9                      Street Condition                UNKNOWN   61508\n",
              "5                Street Light Condition                UNKNOWN   77755\n",
              "8                  UNSANITARY CONDITION                  PHONE   63619"
            ]
          },
          "metadata": {
            "tags": []
          },
          "execution_count": 15
        }
      ]
    },
    {
      "cell_type": "code",
      "metadata": {
        "id": "rN46VFmO7J8o",
        "colab": {
          "base_uri": "https://localhost:8080/",
          "height": 185
        },
        "outputId": "963e0880-1a4e-4259-9e02-92152a34c6a5"
      },
      "source": [
        "# sorting the above table in ascending order of count\n",
        "x.sort_values('count', ascending=True).drop_duplicates('Complaint Type').sort_values('Count')"
      ],
      "execution_count": null,
      "outputs": [
        {
          "output_type": "error",
          "ename": "NameError",
          "evalue": "ignored",
          "traceback": [
            "\u001b[0;31m---------------------------------------------------------------------------\u001b[0m",
            "\u001b[0;31mNameError\u001b[0m                                 Traceback (most recent call last)",
            "\u001b[0;32m<ipython-input-1-3e5b0daf43f1>\u001b[0m in \u001b[0;36m<module>\u001b[0;34m()\u001b[0m\n\u001b[1;32m      1\u001b[0m \u001b[0;31m# sorting the above table in ascending order of count\u001b[0m\u001b[0;34m\u001b[0m\u001b[0;34m\u001b[0m\u001b[0;34m\u001b[0m\u001b[0m\n\u001b[0;32m----> 2\u001b[0;31m \u001b[0mx\u001b[0m\u001b[0;34m.\u001b[0m\u001b[0msort_values\u001b[0m\u001b[0;34m(\u001b[0m\u001b[0;34m'count'\u001b[0m\u001b[0;34m,\u001b[0m \u001b[0mascending\u001b[0m\u001b[0;34m=\u001b[0m\u001b[0;32mTrue\u001b[0m\u001b[0;34m)\u001b[0m\u001b[0;34m.\u001b[0m\u001b[0mdrop_duplicates\u001b[0m\u001b[0;34m(\u001b[0m\u001b[0;34m'Complaint Type'\u001b[0m\u001b[0;34m)\u001b[0m\u001b[0;34m.\u001b[0m\u001b[0msort_values\u001b[0m\u001b[0;34m(\u001b[0m\u001b[0;34m'Count'\u001b[0m\u001b[0;34m)\u001b[0m\u001b[0;34m\u001b[0m\u001b[0;34m\u001b[0m\u001b[0m\n\u001b[0m",
            "\u001b[0;31mNameError\u001b[0m: name 'x' is not defined"
          ]
        }
      ]
    },
    {
      "cell_type": "markdown",
      "metadata": {
        "id": "ltCF-i3Dyqh8"
      },
      "source": [
        "***Can you provide a potential explaination for why some complaints are more frequently made via phone and mobile versus on the website?***\n",
        "\n",
        "Illegal Parking, Blocked Driveway are situtations where the person might be driving while street light condition, plumbing could relate to the person's residential issues- the urgency in reporting the issue and availability of other modes at residence could be factors in choosing these types of complaint submission\n",
        "\n",
        "***Did you work with any other students on this assignment?***\n",
        "\n",
        "No"
      ]
    },
    {
      "cell_type": "markdown",
      "metadata": {
        "id": "2E718_tByqh-"
      },
      "source": [
        "Now [turn in the assignment](https://github.com/afeld/python-public-policy#turning-in-assignments).\n",
        "\n",
        "## Tutorials\n",
        "\n",
        "1. Filtering/indexing `DataFrame`s\n",
        "   - [Filter specific rows from a `DataFrame`](https://pandas.pydata.org/pandas-docs/stable/getting_started/intro_tutorials/03_subset_data.html#how-do-i-filter-specific-rows-from-a-dataframe)\n",
        "   - [Boolean indexing](https://pandas.pydata.org/pandas-docs/stable/user_guide/indexing.html#boolean-indexing)\n",
        "1. [Video introducing functions](https://www.youtube.com/watch?v=9Os0o3wzS_I&list=PL-osiE80TeTskrapNbzXhwoFUiLCjGgY7&index=8)\n",
        "1. Coding Style Guides - Please skim these; I don't expect you to understand and follow everything in them. The most important guidelines to pay attention to are indentation and keeping each statement on its own line.\n",
        "   - [The Hitchhiker’s Guide to Python](https://docs.python-guide.org/writing/style/)\n",
        "   - [PEP 8](https://www.python.org/dev/peps/pep-0008/)\n",
        "1. [Guide to commenting your code](https://realpython.com/python-comments-guide/)\n",
        "1. [Quartz Guide to Bad Data](https://github.com/Quartz/bad-data-guide#readme)\n",
        "\n",
        "### Optional\n",
        "\n",
        "More on indexing:\n",
        "\n",
        "- [How to Select Rows from Pandas DataFrame](https://datatofish.com/select-rows-pandas-dataframe/)\n",
        "- Selecting Subsets of Data in Pandas: [Part 1](https://medium.com/dunder-data/selecting-subsets-of-data-in-pandas-6fcd0170be9c) and [Part 2](https://medium.com/dunder-data/selecting-subsets-of-data-in-pandas-39e811c81a0c)"
      ]
    }
  ]
}